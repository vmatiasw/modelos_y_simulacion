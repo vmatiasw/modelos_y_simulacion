{
 "cells": [
  {
   "cell_type": "markdown",
   "metadata": {},
   "source": [
    "# Practico 3"
   ]
  },
  {
   "cell_type": "code",
   "execution_count": 30,
   "metadata": {},
   "outputs": [],
   "source": [
    "def obtenerPeriodo(g, semilla):\n",
    "  resultados = set([semilla])\n",
    "  res = g(semilla)\n",
    "  periodo = 1\n",
    "  while (res not in resultados):\n",
    "    resultados.add(res)\n",
    "    res = g(res)\n",
    "    periodo += 1\n",
    "  return periodo\n",
    "  "
   ]
  },
  {
   "cell_type": "markdown",
   "metadata": {},
   "source": [
    "## Ejercicio 1"
   ]
  },
  {
   "cell_type": "markdown",
   "metadata": {},
   "source": [
    "### A"
   ]
  },
  {
   "cell_type": "code",
   "execution_count": null,
   "metadata": {},
   "outputs": [
    {
     "name": "stdout",
     "output_type": "stream",
     "text": [
      "Semilla: 3009 -> Periodo: 4\n",
      "Semilla: 7600 -> Periodo: 1\n",
      "Semilla: 1234 -> Periodo: 57\n",
      "Semilla: 4321 -> Periodo: 71\n"
     ]
    }
   ],
   "source": [
    "\n",
    "def vonNeumann(u):\n",
    "  u= (u**2 // 100) % 10000\n",
    "  return u\n",
    "\n",
    "semillas = [3009, 7600, 1234, 4321]\n",
    "for semilla in semillas:\n",
    "  periodo = obtenerPeriodo(vonNeumann, semilla)\n",
    "  print(f\"Semilla: {semilla} -> Periodo: {periodo}\")\n",
    "  "
   ]
  },
  {
   "cell_type": "markdown",
   "metadata": {},
   "source": [
    "### B"
   ]
  },
  {
   "cell_type": "code",
   "execution_count": null,
   "metadata": {},
   "outputs": [],
   "source": []
  }
 ],
 "metadata": {
  "kernelspec": {
   "display_name": ".venv",
   "language": "python",
   "name": "python3"
  },
  "language_info": {
   "codemirror_mode": {
    "name": "ipython",
    "version": 3
   },
   "file_extension": ".py",
   "mimetype": "text/x-python",
   "name": "python",
   "nbconvert_exporter": "python",
   "pygments_lexer": "ipython3",
   "version": "3.12.3"
  }
 },
 "nbformat": 4,
 "nbformat_minor": 2
}
