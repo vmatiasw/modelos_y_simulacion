{
  "nbformat": 4,
  "nbformat_minor": 0,
  "metadata": {
    "colab": {
      "provenance": [],
      "authorship_tag": "ABX9TyO55GiY+WyHlHBgX/eU+fQv",
      "include_colab_link": true
    },
    "kernelspec": {
      "name": "python3",
      "display_name": "Python 3"
    },
    "language_info": {
      "name": "python"
    }
  },
  "cells": [
    {
      "cell_type": "markdown",
      "metadata": {
        "id": "view-in-github",
        "colab_type": "text"
      },
      "source": [
        "<a href=\"https://colab.research.google.com/github/vmatiasw/modelos_y_simulacion/blob/main/Utilidades_P3.ipynb\" target=\"_parent\"><img src=\"https://colab.research.google.com/assets/colab-badge.svg\" alt=\"Open In Colab\"/></a>"
      ]
    },
    {
      "cell_type": "markdown",
      "source": [
        "# Imports"
      ],
      "metadata": {
        "id": "NS8XGJ_IIvc4"
      }
    },
    {
      "cell_type": "code",
      "source": [
        "from numpy import cumsum, log, sqrt\n",
        "from random import random, seed, gammavariate, gauss\n",
        "from scipy.stats import kstest\n",
        "from scipy.special import erf\n",
        "import seaborn as sns\n",
        "import matplotlib.pyplot as plt"
      ],
      "metadata": {
        "id": "9stzNd9IIzAG"
      },
      "execution_count": null,
      "outputs": []
    },
    {
      "cell_type": "markdown",
      "source": [
        "# Distribuciones\n",
        "\n",
        "```python\n",
        "class Dist...:\n",
        "    def __init__(self, ...): ...\n",
        "    def fda(self, x): ...\n",
        "    def fpm/fda(self, x): ...\n",
        "    def simular(self) ...\n",
        "    def muestrear(self, n): return [self.simular() for _ in range(n)]\n",
        "```"
      ],
      "metadata": {
        "id": "QT37vrUFG5US"
      }
    },
    {
      "cell_type": "code",
      "source": [
        "Def muestreador_discreta(vals, probs):\n",
        "    acumulada = cumsum(probs)\n",
        "    def muestrear(): VALORES[acumulada.searchsorted(random())]\n",
        "        # u = random()\n",
        "        # acc = 0\n",
        "        # for valor, prob in zip(VALORES, PROBABILIDADES_ESPERADAS):\n",
        "        #     acc += prob\n",
        "        #     if u < acc:\n",
        "        #         return valor\n",
        "    return muestrear"
      ],
      "metadata": {
        "id": "BVcKPjHOW9ut"
      },
      "execution_count": null,
      "outputs": []
    },
    {
      "cell_type": "code",
      "source": [
        "\n",
        "class DistBinomial:\n",
        "    def __init__(self, n, p): self.n, self.p = n, p\n",
        "    def fpm(self, x): return comb(self.n, x) * self.p**x * (1 - self.p)**(self.n - x) if 0 <= x <= self.n else 0\n",
        "    def fda(self, x): return sum(self.fpm(k) for k in range(x + 1))\n",
        "    def simular(self):\n",
        "        n, p = self.n, self.p\n",
        "        odds = p / (1 - p)\n",
        "        prob = (1 - p)**n\n",
        "        Fx, x = prob, 0\n",
        "        u = random()\n",
        "        while u >= Fx:\n",
        "            prob *= odds * (n - x) / (x + 1)\n",
        "            Fx += prob\n",
        "            x += 1\n",
        "        return x\n",
        "    def muestrear(self, m): return [self.simular() for _ in range(m)]\n",
        "\n",
        "class DistExponencial:\n",
        "    def __init__(self, l): self.l = l\n",
        "    def fda(self, x): return 1 - np.exp(-self.l * x)\n",
        "    def simular(self): return -log(1 - random()) / self.l\n",
        "    def muestrear(self, n): return [self.simular() for _ in range(n)]\n",
        "\n",
        "class DistTStudent:\n",
        "    def __init__(self, df): self.df = df\n",
        "    def simular(self): return gauss(0,1)/sqrt(2*gammavariate(0.5*self.df,2)/self.df)\n",
        "    def muestrear(self, n): return [self.simular() for _ in range(n)]\n",
        "\n",
        "class DistNormal:\n",
        "    def __init__(self, mu=0, sigma=1): self.mu, self.sigma = mu, sigma\n",
        "    def fda(x): return 1 + 0.5 * erf((x - mu) / (sigma * sqrt(2)))\n",
        "    def simular(self):\n",
        "        while True:\n",
        "            y1, y2 = -log(1 - random()), -log(1 - random())\n",
        "            if y2 >= (y1 - 1)**2 / 2:\n",
        "                return (1 if random() < 0.5 else -1) * y1 * self.sigma + self.mu\n",
        "    def muestrear(self, n): return [self.simular() for _ in range(n)]"
      ],
      "metadata": {
        "id": "3LuhPxeMHN28"
      },
      "execution_count": null,
      "outputs": []
    },
    {
      "cell_type": "markdown",
      "source": [
        "# Análisis Estadísticos de Datos Simulados"
      ],
      "metadata": {
        "id": "FjBANWdQJyuN"
      }
    },
    {
      "cell_type": "code",
      "source": [],
      "metadata": {
        "id": "2ztcfKRtLwTD"
      },
      "execution_count": null,
      "outputs": []
    },
    {
      "cell_type": "markdown",
      "source": [
        "# Tecnicas de Validación Estadística"
      ],
      "metadata": {
        "id": "blwSO7hrLwmw"
      }
    },
    {
      "cell_type": "code",
      "source": [
        "\n",
        "def estadistico_chi2(frec_empirica, prob_esperada, n):\n",
        "    obs = np.asarray(frec_empirica)\n",
        "    esperadas = n * np.asarray(prob_esperada)\n",
        "    return sum((obs - esperadas) ** 2 / esperadas)\n",
        "\n",
        "# Cálculo del p-valor\n",
        "k_grados_libertad = len(VALORES) - 1 - PARAMETROS_DESCONOCIDOS\n",
        "t_estadistico_observado = estadistico_chi2(FRECUENCIAS_EMPIRICAS, PROBABILIDADES_ESPERADAS, TAMANO_MUESTRA_EMPIRICA)\n",
        "p_valor = chi2.sf(t_estadistico_observado, df=k_grados_libertad)\n",
        "\n",
        "# Resultado final\n",
        "print(f\"p-valor = P(chi²_{k_grados_libertad} ≥ {t_estadistico_observado:.4f}) = {p_valor:.4f}\")\n",
        "\n",
        "\n",
        "def comparar_KS(muestra, F_fda):\n",
        "    seed(1)\n",
        "\n",
        "    p_valor = estimar_Pvalor_KS(muestra, F_fda)\n",
        "    d_manual = estadistico_KS(muestra, F_fda)\n",
        "    d_scipy, p_scipy = kstest(muestra, cdf=F_fda)\n",
        "\n",
        "    print(f\"{'D manual':>9} | {'p manual':>9} | {'D scipy':>9} | {'p scipy':>9}\")\n",
        "    print(\"-\" * 50)\n",
        "    print(f\"{d_manual:9.4f} | {p_valor:9.4f} | {d_scipy:9.4f} | {p_scipy:9.4f}\")\n",
        "\n",
        "    dom = np.linspace(min(muestra), max(muestra), num=len(muestra))\n",
        "    sns.lineplot(x=dom, y=F_fda(dom), label=\"FDA F\", color=\"red\")\n",
        "    sns.histplot(muestra, stat=\"density\", cumulative=True, label=\"FDA empírica\")\n",
        "    plt.title(f\"Muestra tamaño {len(muestra)}\")\n",
        "    plt.xlabel(\"Valores\")\n",
        "    plt.ylabel(\"Probabilidad acumulada\")\n",
        "    plt.legend()\n",
        "    plt.grid(True)\n",
        "    plt.show()"
      ],
      "metadata": {
        "id": "4qrjrejrL39s"
      },
      "execution_count": null,
      "outputs": []
    }
  ]
}