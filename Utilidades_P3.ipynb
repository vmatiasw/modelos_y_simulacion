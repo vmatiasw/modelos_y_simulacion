{
  "nbformat": 4,
  "nbformat_minor": 0,
  "metadata": {
    "colab": {
      "provenance": [],
      "authorship_tag": "ABX9TyOrjoW/GA3sGx/ihJjVw4u2",
      "include_colab_link": true
    },
    "kernelspec": {
      "name": "python3",
      "display_name": "Python 3"
    },
    "language_info": {
      "name": "python"
    }
  },
  "cells": [
    {
      "cell_type": "markdown",
      "metadata": {
        "id": "view-in-github",
        "colab_type": "text"
      },
      "source": [
        "<a href=\"https://colab.research.google.com/github/vmatiasw/modelos_y_simulacion/blob/main/Utilidades_P3.ipynb\" target=\"_parent\"><img src=\"https://colab.research.google.com/assets/colab-badge.svg\" alt=\"Open In Colab\"/></a>"
      ]
    },
    {
      "cell_type": "markdown",
      "source": [
        "# Imports"
      ],
      "metadata": {
        "id": "NS8XGJ_IIvc4"
      }
    },
    {
      "cell_type": "code",
      "source": [
        "from random import random, seed\n",
        "import numpy as np"
      ],
      "metadata": {
        "id": "9stzNd9IIzAG"
      },
      "execution_count": null,
      "outputs": []
    },
    {
      "cell_type": "markdown",
      "source": [
        "# Distribuciones\n",
        "\n",
        "```python\n",
        "class Dist:\n",
        "    def __init__(self, ...): ...\n",
        "    def fda(self, x): return ...\n",
        "    def simular(self) return ...\n",
        "    def muestrear(self, n): return [variable_aleatoria() for _ in range(n)]\n",
        "```"
      ],
      "metadata": {
        "id": "QT37vrUFG5US"
      }
    },
    {
      "cell_type": "code",
      "source": [
        "\n",
        "class DistExponencial:\n",
        "    def __init__(self, l): self.l = l\n",
        "    def fda(self, x): return 1 - np.exp(-self.l * x)\n",
        "    def simular(self): return -log(1 - random()) / self.l\n",
        "    def muestrear(self, n): return [self.simular() for _ in range(n)]\n",
        "\n",
        "class DistTStudent:\n",
        "    def __init__(self, df): self.df = df\n",
        "    def simular(self): return gauss(0,1)/sqrt(2*gammavariate(0.5*self.df,2)/self.df)\n",
        "    def muestrear(self, n): return [self.simular() for _ in range(n)]\n",
        "\n",
        "class DistNormal:\n",
        "    def __init__(self, mu=0, sigma=1): self.mu, self.sigma = mu, sigma\n",
        "    def fda(x): return erf(x/sqrt(2))/2 + 0.5\n",
        "    def simular(self):\n",
        "        while True:\n",
        "            y1, y2 = -log(1 - random()), -log(1 - random())\n",
        "            if y2 >= (y1 - 1)**2 / 2:\n",
        "                return (1 if random() < 0.5 else -1) * y1 * self.sigma + self.mu\n",
        "    def muestrear(self, n): return [self.simular() for _ in range(n)]"
      ],
      "metadata": {
        "id": "3LuhPxeMHN28"
      },
      "execution_count": null,
      "outputs": []
    },
    {
      "cell_type": "markdown",
      "source": [
        "# Análisis Estadísticos de Datos Simulados"
      ],
      "metadata": {
        "id": "FjBANWdQJyuN"
      }
    },
    {
      "cell_type": "code",
      "source": [],
      "metadata": {
        "id": "2ztcfKRtLwTD"
      },
      "execution_count": null,
      "outputs": []
    },
    {
      "cell_type": "markdown",
      "source": [
        "# Tecnicas de Validación Estadística"
      ],
      "metadata": {
        "id": "blwSO7hrLwmw"
      }
    },
    {
      "cell_type": "code",
      "source": [],
      "metadata": {
        "id": "4qrjrejrL39s"
      },
      "execution_count": null,
      "outputs": []
    }
  ]
}