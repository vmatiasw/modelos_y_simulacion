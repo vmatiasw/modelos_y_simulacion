{
  "nbformat": 4,
  "nbformat_minor": 0,
  "metadata": {
    "colab": {
      "provenance": [],
      "authorship_tag": "ABX9TyNyAf9keV5rudZPq62aAMVn",
      "include_colab_link": true
    },
    "kernelspec": {
      "name": "python3",
      "display_name": "Python 3"
    },
    "language_info": {
      "name": "python"
    }
  },
  "cells": [
    {
      "cell_type": "markdown",
      "metadata": {
        "id": "view-in-github",
        "colab_type": "text"
      },
      "source": [
        "<a href=\"https://colab.research.google.com/github/vmatiasw/modelos_y_simulacion/blob/main/viola_matias_parcial1.ipynb\" target=\"_parent\"><img src=\"https://colab.research.google.com/assets/colab-badge.svg\" alt=\"Open In Colab\"/></a>"
      ]
    },
    {
      "cell_type": "code",
      "execution_count": 20,
      "metadata": {
        "colab": {
          "base_uri": "https://localhost:8080/"
        },
        "id": "sEhWbcSMUfyd",
        "outputId": "ab8c0501-9abb-4e90-a5d2-b6c59faac0c1"
      },
      "outputs": [
        {
          "output_type": "stream",
          "name": "stdout",
          "text": [
            "1000:14.305850265079156\n",
            "10000:14.379379849629242\n",
            "100000:14.348276135544644\n"
          ]
        }
      ],
      "source": [
        "import random\n",
        "import math\n",
        "\n",
        "# Ejercicio 1\n",
        "def monte_carlo(f, N):\n",
        "    acc = 0\n",
        "    for _ in range(N):\n",
        "        u = random.random()\n",
        "        acc += f(u)\n",
        "    return acc / N\n",
        "\n",
        "def integral(y):\n",
        " return math.sqrt((1+6*y)+math.sqrt(1+6*y))*6\n",
        "\n",
        "for i in range(3):\n",
        "  N = 1000*10**i\n",
        "  print(f\"{N}:{monte_carlo(integral, N)}\")\n"
      ]
    },
    {
      "cell_type": "code",
      "source": [
        "# Ejercicio 2\n",
        "def juego(N):\n",
        "    aciertos_impares = 0\n",
        "    for _ in range(N):\n",
        "      cout = 0\n",
        "      acc = 0\n",
        "      while (acc <= 1):\n",
        "        acc += random.random()\n",
        "        cout += 1\n",
        "        if acc > 1 and cout % 2 == 1:\n",
        "          aciertos_impares += 1\n",
        "    return aciertos_impares / N\n",
        "\n",
        "def pares():\n",
        "  for i in range(3):\n",
        "    N = 100*10**i\n",
        "    print(f\"Simulacion N = {N}: p = {juego(N)}\")\n",
        "\n",
        "pares()"
      ],
      "metadata": {
        "colab": {
          "base_uri": "https://localhost:8080/"
        },
        "id": "vMd8-lChb9bO",
        "outputId": "44bc5ff2-916a-45ea-aa6c-9f9c827cc741"
      },
      "execution_count": 21,
      "outputs": [
        {
          "output_type": "stream",
          "name": "stdout",
          "text": [
            "Simulacion N = 100: p = 0.35\n",
            "Simulacion N = 1000: p = 0.365\n",
            "Simulacion N = 10000: p = 0.3621\n"
          ]
        }
      ]
    }
  ]
}