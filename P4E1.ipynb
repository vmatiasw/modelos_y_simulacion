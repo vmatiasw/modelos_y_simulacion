{
  "nbformat": 4,
  "nbformat_minor": 0,
  "metadata": {
    "colab": {
      "provenance": [],
      "authorship_tag": "ABX9TyNOJHZVI0Nr1otmQaoTgc4f",
      "include_colab_link": true
    },
    "kernelspec": {
      "name": "python3",
      "display_name": "Python 3"
    },
    "language_info": {
      "name": "python"
    }
  },
  "cells": [
    {
      "cell_type": "markdown",
      "metadata": {
        "id": "view-in-github",
        "colab_type": "text"
      },
      "source": [
        "<a href=\"https://colab.research.google.com/github/vmatiasw/modelos_y_simulacion/blob/main/P4E1.ipynb\" target=\"_parent\"><img src=\"https://colab.research.google.com/assets/colab-badge.svg\" alt=\"Open In Colab\"/></a>"
      ]
    },
    {
      "cell_type": "code",
      "execution_count": 45,
      "metadata": {
        "colab": {
          "base_uri": "https://localhost:8080/"
        },
        "id": "CkLDmtA9IFco",
        "outputId": "6e0ce303-a667-483a-c179-27e6345a26f4"
      },
      "outputs": [
        {
          "output_type": "stream",
          "name": "stdout",
          "text": [
            "[1, 2, 3, 4, 5, 6, 7, 8, 9, 10, 11, 12, 13, 14, 15, 16, 17, 18, 19, 20, 21, 22, 23, 24, 25, 26, 27, 28, 29, 30, 31, 32, 33, 34, 35, 36, 37, 38, 39, 40, 41, 42, 43, 44, 45, 46, 47, 48, 49, 50, 51, 52, 53, 54, 55, 56, 57, 58, 59, 60, 61, 62, 63, 64, 65, 66, 67, 68, 69, 70, 71, 72, 73, 74, 75, 76, 77, 78, 79, 80, 81, 82, 83, 84, 85, 86, 87, 88, 89, 90, 91, 92, 93, 94, 95, 96, 97, 98, 99, 100]\n",
            "[36, 44, 14, 68, 26, 16, 25, 33, 12, 7, 95, 19, 24, 6, 65, 92, 94, 70, 23, 49, 89, 51, 31, 83, 63, 79, 82, 50, 40, 17, 72, 35, 37, 54, 21, 98, 73, 75, 86, 85, 52, 28, 8, 55, 2, 39, 30, 59, 32, 47, 64, 5, 66, 76, 13, 99, 53, 48, 10, 15, 9, 56, 27, 81, 43, 69, 20, 61, 78, 93, 91, 100, 11, 88, 34, 60, 90, 22, 42, 29, 80, 62, 57, 77, 71, 1, 4, 38, 97, 87, 3, 46, 96, 18, 74, 41, 45, 67, 58, 84]\n"
          ]
        }
      ],
      "source": [
        "import random\n",
        "def fisher_yates(arr):\n",
        "  \"\"\"\n",
        "  Recorre el arreglo de atrás hacia adelante, y para cada posición i, elige un índice aleatorio j ∈ [0, i] y hace un swap.\n",
        "  \"\"\"\n",
        "  newArr = arr[:] # copia\n",
        "  size = len(newArr)\n",
        "\n",
        "  for i in range(size - 1, 0, -1):\n",
        "      u = random.random()\n",
        "      j = int(u * (i + 1))\n",
        "      newArr[i], newArr[j] = newArr[j], newArr[i]\n",
        "\n",
        "  return newArr\n",
        "\n",
        "def nuevo_mazo_barajado():\n",
        "  mazo = [i+1 for i in range(100)]\n",
        "  return fisher_yates(mazo)\n",
        "\n",
        "print([i+1 for i in range(100)])\n",
        "print(nuevo_mazo_barajado())"
      ]
    },
    {
      "cell_type": "code",
      "source": [
        "# E(numero de exitos)\n",
        "\n",
        "def numero_de_exitos():\n",
        "  mazo = nuevo_mazo_barajado()\n",
        "  acc = 0\n",
        "  for i, e in enumerate(mazo):\n",
        "    acc += e == i+1\n",
        "  return acc\n",
        "\n",
        "def esperanza(f, n):\n",
        "    return sum(f() for _ in range(n)) / n\n",
        "\n",
        "for i in range(2, 6):\n",
        "  print(esperanza(numero_de_exitos, 10**i))"
      ],
      "metadata": {
        "colab": {
          "base_uri": "https://localhost:8080/"
        },
        "id": "dETDLsJ2VfXx",
        "outputId": "f56184e9-ceda-4468-ce13-ab5d8c0baa76"
      },
      "execution_count": 49,
      "outputs": [
        {
          "output_type": "stream",
          "name": "stdout",
          "text": [
            "1.07\n",
            "0.982\n",
            "0.996\n",
            "1.00215\n"
          ]
        }
      ]
    },
    {
      "cell_type": "code",
      "source": [
        "# V(numero de exitos)\n",
        "\n",
        "def varianza(experimento, n):\n",
        "    muestras = [experimento() for _ in range(n)]\n",
        "    media = sum(muestras) / n\n",
        "    return sum((x - media) ** 2 for x in muestras) / n\n",
        "\n",
        "for i in range(2, 6):\n",
        "  print(varianza(numero_de_exitos, 10**i))"
      ],
      "metadata": {
        "colab": {
          "base_uri": "https://localhost:8080/"
        },
        "id": "SI8LFVHEWdF9",
        "outputId": "83b6aadb-2519-46a6-a717-3876a7b8f57b"
      },
      "execution_count": 48,
      "outputs": [
        {
          "output_type": "stream",
          "name": "stdout",
          "text": [
            "1.3744000000000005\n",
            "0.9839109999999892\n",
            "0.9875535900000177\n",
            "1.011248123100877\n"
          ]
        }
      ]
    },
    {
      "cell_type": "code",
      "source": [
        "# P(las primeras r=10 esten en su lugar)\n",
        "\n",
        "def primeras_r_ordenadas(r=10):\n",
        "  mazo = nuevo_mazo_barajado()\n",
        "  for i in range(r):\n",
        "    if mazo[i] != (i+1):\n",
        "      return 0\n",
        "  return 1\n",
        "\n",
        "def probabilidad(f, n):\n",
        "    prob = sum(f() for _ in range(n))\n",
        "    return prob / n\n",
        "\n",
        "for i in range(2, 6):\n",
        "  print(probabilidad(primeras_r_ordenadas, 10**i))"
      ],
      "metadata": {
        "colab": {
          "base_uri": "https://localhost:8080/"
        },
        "id": "V-OY0ardOuCg",
        "outputId": "df8ce59e-337a-49e3-ac1d-dc0094d2f962"
      },
      "execution_count": 47,
      "outputs": [
        {
          "output_type": "stream",
          "name": "stdout",
          "text": [
            "0.0\n",
            "0.0\n",
            "0.0\n",
            "0.0\n"
          ]
        }
      ]
    },
    {
      "cell_type": "code",
      "source": [
        "# P(las primeras r=10 en su lugar y ninguna mas)\n",
        "\n",
        "def solo_primeras_r_ordenadas(r=10):\n",
        "  mazo = nuevo_mazo_barajado()\n",
        "  for i in range(r):\n",
        "    if mazo[i] != (i+1):\n",
        "      return 0\n",
        "\n",
        "  for i in range(r, 100):\n",
        "    if mazo[i] == i+1:\n",
        "      return 0\n",
        "  return 1\n",
        "\n",
        "for i in range(2, 6):\n",
        "  print(probabilidad(solo_primeras_r_ordenadas, 10**i))"
      ],
      "metadata": {
        "colab": {
          "base_uri": "https://localhost:8080/"
        },
        "id": "0BDm2AJsSfMQ",
        "outputId": "e9a4f44a-8e67-4a90-da9c-e10a7fedd099"
      },
      "execution_count": 46,
      "outputs": [
        {
          "output_type": "stream",
          "name": "stdout",
          "text": [
            "0.0\n",
            "0.0\n",
            "0.0\n",
            "0.0\n"
          ]
        }
      ]
    }
  ]
}