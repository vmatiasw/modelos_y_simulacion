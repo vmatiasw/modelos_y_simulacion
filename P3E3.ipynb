{
  "nbformat": 4,
  "nbformat_minor": 0,
  "metadata": {
    "colab": {
      "provenance": [],
      "toc_visible": true,
      "authorship_tag": "ABX9TyOCsYMEMXB/seFLeJB4iloK",
      "include_colab_link": true
    },
    "kernelspec": {
      "name": "python3",
      "display_name": "Python 3"
    },
    "language_info": {
      "name": "python"
    }
  },
  "cells": [
    {
      "cell_type": "markdown",
      "metadata": {
        "id": "view-in-github",
        "colab_type": "text"
      },
      "source": [
        "<a href=\"https://colab.research.google.com/github/vmatiasw/modelos_y_simulacion/blob/main/P3E3.ipynb\" target=\"_parent\"><img src=\"https://colab.research.google.com/assets/colab-badge.svg\" alt=\"Open In Colab\"/></a>"
      ]
    },
    {
      "cell_type": "code",
      "execution_count": null,
      "metadata": {
        "colab": {
          "base_uri": "https://localhost:8080/"
        },
        "id": "AH19nyKSGtHT",
        "outputId": "765d0a7f-0a52-49bd-b981-6d09981bf55e"
      },
      "outputs": [
        {
          "output_type": "stream",
          "name": "stdout",
          "text": [
            "100: 0.88\n",
            "1000: 0.889\n",
            "10000: 0.8835\n",
            "100000: 0.89004\n",
            "1000000: 0.888417\n"
          ]
        }
      ],
      "source": [
        "import random\n",
        "\n",
        "def prob_ganar_juego(n, printear=False):\n",
        "    ganadas = 0\n",
        "    for _ in range(n):\n",
        "        u = random.random()\n",
        "        if u < 1/3:\n",
        "            s = random.random() + random.random()\n",
        "        else:\n",
        "            s = random.random() + random.random() + random.random()\n",
        "        if s <= 2:\n",
        "            ganadas += 1\n",
        "\n",
        "    prob_ganar = ganadas / n\n",
        "    if printear:\n",
        "      print(f'{n}: {prob_ganar}')\n",
        "    return prob_ganar\n",
        "\n",
        "\n",
        "for i in range(2,7):\n",
        "  prob_ganar_juego(10**i, True)\n",
        "\n"
      ]
    }
  ]
}