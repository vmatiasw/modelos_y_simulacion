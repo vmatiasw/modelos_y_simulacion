{
  "nbformat": 4,
  "nbformat_minor": 0,
  "metadata": {
    "colab": {
      "provenance": [],
      "authorship_tag": "ABX9TyM311qRfmhLPUEOMY/f8uu3",
      "include_colab_link": true
    },
    "kernelspec": {
      "name": "python3",
      "display_name": "Python 3"
    },
    "language_info": {
      "name": "python"
    }
  },
  "cells": [
    {
      "cell_type": "markdown",
      "metadata": {
        "id": "view-in-github",
        "colab_type": "text"
      },
      "source": [
        "<a href=\"https://colab.research.google.com/github/vmatiasw/modelos_y_simulacion/blob/main/P4E3.ipynb\" target=\"_parent\"><img src=\"https://colab.research.google.com/assets/colab-badge.svg\" alt=\"Open In Colab\"/></a>"
      ]
    },
    {
      "cell_type": "code",
      "source": [
        "import random\n",
        "\n",
        "CARAS = 6\n",
        "def tirar_dado(numero_de_caras=CARAS):\n",
        "  u = random.random()\n",
        "  return int(u * numero_de_caras + 1)\n",
        "\n",
        "def experimento():\n",
        "  resultados_faltantes = set(range(2,CARAS*2+1)) #{2, 3, 4, 5, 6, 7, 8, 9, 10, 11, 12}\n",
        "  conteo = 0\n",
        "  while resultados_faltantes:\n",
        "    res = tirar_dado() + tirar_dado()\n",
        "    resultados_faltantes.discard(res)\n",
        "    conteo += 1\n",
        "  return conteo\n",
        "\n",
        "def estimar_esperanza(experimento, n):\n",
        "  acumulador = 0\n",
        "  for _ in range(n):\n",
        "    acumulador += experimento()\n",
        "  return acumulador / n\n",
        "\n",
        "def estimar_desviacion(experimento,esperanza, n):\n",
        "  acumulador = 0\n",
        "  for _ in range(n):\n",
        "    acumulador += (experimento() - esperanza)**2\n",
        "  return (acumulador / n)**0.5\n",
        "\n",
        "def estimar_probabilidad(condicion, experimento, n):\n",
        "  conteo = 0\n",
        "  for _ in range(n):\n",
        "    res = experimento()\n",
        "    if condicion(res):\n",
        "      conteo += 1\n",
        "  return conteo / n\n",
        "\n",
        "for i in range(2,6):\n",
        "  print()\n",
        "  print(f'Con {10**i} experimentos')\n",
        "  esperanza = estimar_esperanza(experimento, 10**i)\n",
        "  print(f'Esperanza: {esperanza}')\n",
        "  print(f'Desviacion: {estimar_desviacion(experimento, esperanza, 10**i)}')\n",
        "  a_lo_sumo_9 = lambda x: x <= 9\n",
        "  print(f'Probabilidad de obtener a lo sumo 9: {estimar_probabilidad(a_lo_sumo_9, experimento, 10**i)}')\n",
        "  al_menos_15 = lambda x: x >= 15\n",
        "  print(f'Probabilidad de obtener al menos 15: {estimar_probabilidad(al_menos_15, experimento, 10**i)}')"
      ],
      "metadata": {
        "colab": {
          "base_uri": "https://localhost:8080/"
        },
        "id": "mPX-b3tWu1yE",
        "outputId": "a338ada1-5d44-4c7c-ed70-ce1a9d68e52d"
      },
      "execution_count": 109,
      "outputs": [
        {
          "output_type": "stream",
          "name": "stdout",
          "text": [
            "\n",
            "Con 100 experimentos\n",
            "Esperanza: 62.04\n",
            "Desviacion: 42.78768514420943\n",
            "Probabilidad de obtener a lo sumo 9: 0.0\n",
            "Probabilidad de obtener al menos 15: 0.99\n",
            "\n",
            "Con 1000 experimentos\n",
            "Esperanza: 63.953\n",
            "Desviacion: 35.938688220356624\n",
            "Probabilidad de obtener a lo sumo 9: 0.0\n",
            "Probabilidad de obtener al menos 15: 0.997\n",
            "\n",
            "Con 10000 experimentos\n",
            "Esperanza: 61.34\n",
            "Desviacion: 35.640327383457105\n",
            "Probabilidad de obtener a lo sumo 9: 0.0\n",
            "Probabilidad de obtener al menos 15: 0.9982\n",
            "\n",
            "Con 100000 experimentos\n",
            "Esperanza: 61.23009\n",
            "Desviacion: 35.8880460857239\n",
            "Probabilidad de obtener a lo sumo 9: 0.0\n",
            "Probabilidad de obtener al menos 15: 0.99858\n"
          ]
        }
      ]
    }
  ]
}