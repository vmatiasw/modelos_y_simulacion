{
  "nbformat": 4,
  "nbformat_minor": 0,
  "metadata": {
    "colab": {
      "provenance": [],
      "authorship_tag": "ABX9TyP6EihjJYJWn5L4WKyQQvnn",
      "include_colab_link": true
    },
    "kernelspec": {
      "name": "python3",
      "display_name": "Python 3"
    },
    "language_info": {
      "name": "python"
    }
  },
  "cells": [
    {
      "cell_type": "markdown",
      "metadata": {
        "id": "view-in-github",
        "colab_type": "text"
      },
      "source": [
        "<a href=\"https://colab.research.google.com/github/vmatiasw/modelos_y_simulacion/blob/main/P4E5.ipynb\" target=\"_parent\"><img src=\"https://colab.research.google.com/assets/colab-badge.svg\" alt=\"Open In Colab\"/></a>"
      ]
    },
    {
      "cell_type": "code",
      "source": [
        "import pandas as pd\n",
        "from collections import Counter\n",
        "import random\n",
        "import time\n",
        "import numpy as np\n",
        "import math"
      ],
      "metadata": {
        "id": "xcjObWTBWLpv"
      },
      "execution_count": 297,
      "outputs": []
    },
    {
      "cell_type": "code",
      "source": [
        "def medir_tiempo(func):\n",
        "    inicio = time.perf_counter()\n",
        "    resultado = func()\n",
        "    fin = time.perf_counter()\n",
        "    return resultado, fin - inicio\n",
        "\n",
        "def obtener_DataFrame(dict_fpm, P):\n",
        "  data = {\n",
        "      \"X\": list(dict_fpm.keys()),\n",
        "      \"P(X) Real\": [P[x] for x in dict_fpm.keys()],\n",
        "      \"Estimación\": list(dict_fpm.values()),\n",
        "      \"Diferencia\": [abs(P[x] - dict_fpm[x]) for x in dict_fpm.keys()]\n",
        "  }\n",
        "  return pd.DataFrame(data)\n",
        "\n",
        "def estimar_dict_fpm(p, soporte, n):\n",
        "  \"\"\"\n",
        "  Estima la función de probabilidad de masa de una variable aleatoria discreta utilizando un generador de muestras.\n",
        "  \"\"\"\n",
        "  muestras = [p() for _ in range(n)]\n",
        "  frecuencias = Counter(muestras)\n",
        "\n",
        "  dict_fpm = {x: frecuencias.get(x, 0) / n for x in soporte}\n",
        "\n",
        "  return dict_fpm\n",
        "\n",
        "def calcular_TVD(dict_fpm_estimada, dict_fpm_real):\n",
        "  \"\"\"\n",
        "  Calcula la Distancia Total de Variación (TVD) entre dos distribuciones discretas.\n",
        "  \"\"\"\n",
        "  return 0.5 * sum(abs(dict_fpm_real[x] - dict_fpm_estimada.get(x, 0)) for x in dict_fpm_real)\n",
        "\n",
        "def calificar_generador(generador_de_muestras, dict_fpm_correcta):\n",
        "  n = 100_000\n",
        "  soporte = dict_fpm_correcta.keys()\n",
        "  dict_fpm_estimada, tiempo = medir_tiempo(lambda: estimar_dict_fpm(generador_de_muestras, soporte, n))\n",
        "  print(obtener_DataFrame(dict_fpm_estimada, dict_fpm_correcta))\n",
        "  tvd = calcular_TVD(dict_fpm_estimada, dict_fpm_correcta)\n",
        "  print()\n",
        "  print(f\"Distancia total de variación (TVD): {tvd:.6f}\")\n",
        "  print(f\"Tiempo de ejecución: {tiempo/n:.6f} segundos\")\n"
      ],
      "metadata": {
        "id": "5BFAexMVS7GG"
      },
      "execution_count": 310,
      "outputs": []
    },
    {
      "cell_type": "code",
      "source": [
        "# Implemente dos métodos para generar una binomial Bin(n, p):\n",
        "N = 10\n",
        "SOPORTE = list(range(N))\n",
        "P = 0.3"
      ],
      "metadata": {
        "id": "weebfkW_NbFc"
      },
      "execution_count": 319,
      "outputs": []
    },
    {
      "cell_type": "code",
      "source": [
        "# Transformada inversa.\n",
        "def crear_dict_fpm(soporte, p):\n",
        "  return {v: p(v) for v in soporte}\n",
        "\n",
        "def calcular_dict_fda(f):\n",
        "  \"\"\"\n",
        "  Recibe una funcion de probabilidad de masa en forma de diccionario de pares\n",
        "  (valor, probabilidad) y devuelve su funcion de distribucion acumulada.\n",
        "  Solo definidas para el soporte.\n",
        "  \"\"\"\n",
        "  F = {}\n",
        "  suma = 0\n",
        "  for valor, probabilidad in f.items():\n",
        "    suma += probabilidad\n",
        "    F[valor] = suma\n",
        "  return F\n",
        "\n",
        "def TI(F):\n",
        "  u = random.random()\n",
        "  for v, p in F.items():\n",
        "    if u < p:\n",
        "      return v\n",
        "\n",
        "def binomial_fpm(k, n=N, p=P):\n",
        "    if not 0 <= k <= n:\n",
        "        return 0.0\n",
        "    coef = math.comb(n, k)\n",
        "    prob = coef * (p ** k) * ((1 - p) ** (n - k))\n",
        "    return prob\n",
        "\n",
        "fpm = crear_dict_fpm(SOPORTE, binomial_fpm)\n",
        "fda = calcular_dict_fda(fpm)\n",
        "generador_de_muestras = lambda: TI(fda)\n",
        "\n",
        "calificar_generador(generador_de_muestras, fpm)"
      ],
      "metadata": {
        "colab": {
          "base_uri": "https://localhost:8080/"
        },
        "id": "oEuV013GObXr",
        "outputId": "0dbebfb4-ad17-49e6-bfc0-ef78db6594c4"
      },
      "execution_count": 323,
      "outputs": [
        {
          "output_type": "stream",
          "name": "stdout",
          "text": [
            "   X  P(X) Real  Estimación  Diferencia\n",
            "0  0   0.028248     0.02893    0.000682\n",
            "1  1   0.121061     0.12129    0.000229\n",
            "2  2   0.233474     0.23491    0.001436\n",
            "3  3   0.266828     0.26596    0.000868\n",
            "4  4   0.200121     0.19773    0.002391\n",
            "5  5   0.102919     0.10336    0.000441\n",
            "6  6   0.036757     0.03744    0.000683\n",
            "7  7   0.009002     0.00874    0.000262\n",
            "8  8   0.001447     0.00147    0.000023\n",
            "9  9   0.000138     0.00017    0.000032\n",
            "\n",
            "Distancia total de variación (TVD): 0.003524\n",
            "Tiempo de ejecución: 0.000001 segundos\n"
          ]
        }
      ]
    },
    {
      "cell_type": "code",
      "source": [
        "# II) Simulando n ensayos con probabilidad de éxito p y contando el número de éxitos.\n",
        "def experimento_binomial(n,p):\n",
        "    exitos = 0\n",
        "    for ensayo in range(n):\n",
        "        if random.random() < p:\n",
        "            exitos += 1\n",
        "    return exitos\n",
        "\n",
        "generador_de_muestras = lambda: experimento_binomial(N, P)\n",
        "calificar_generador(generador_de_muestras, fpm)"
      ],
      "metadata": {
        "colab": {
          "base_uri": "https://localhost:8080/"
        },
        "id": "V4G-1UFYWZy0",
        "outputId": "d096c3e5-e359-47c6-e624-3d50ad9fbd29"
      },
      "execution_count": 322,
      "outputs": [
        {
          "output_type": "stream",
          "name": "stdout",
          "text": [
            "   X  P(X) Real  Estimación  Diferencia\n",
            "0  0   0.028248     0.02813    0.000118\n",
            "1  1   0.121061     0.12018    0.000881\n",
            "2  2   0.233474     0.23575    0.002276\n",
            "3  3   0.266828     0.26658    0.000248\n",
            "4  4   0.200121     0.19750    0.002621\n",
            "5  5   0.102919     0.10343    0.000511\n",
            "6  6   0.036757     0.03742    0.000663\n",
            "7  7   0.009002     0.00944    0.000438\n",
            "8  8   0.001447     0.00148    0.000033\n",
            "9  9   0.000138     0.00009    0.000048\n",
            "\n",
            "Distancia total de variación (TVD): 0.003918\n",
            "Tiempo de ejecución: 0.000001 segundos\n"
          ]
        }
      ]
    }
  ]
}