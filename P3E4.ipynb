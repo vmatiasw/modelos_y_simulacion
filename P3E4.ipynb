{
  "nbformat": 4,
  "nbformat_minor": 0,
  "metadata": {
    "colab": {
      "provenance": [],
      "toc_visible": true,
      "authorship_tag": "ABX9TyOVtULfCTjuoWCmMqzwMgBN",
      "include_colab_link": true
    },
    "kernelspec": {
      "name": "python3",
      "display_name": "Python 3"
    },
    "language_info": {
      "name": "python"
    }
  },
  "cells": [
    {
      "cell_type": "markdown",
      "metadata": {
        "id": "view-in-github",
        "colab_type": "text"
      },
      "source": [
        "<a href=\"https://colab.research.google.com/github/vmatiasw/modelos_y_simulacion/blob/main/P3E4.ipynb\" target=\"_parent\"><img src=\"https://colab.research.google.com/assets/colab-badge.svg\" alt=\"Open In Colab\"/></a>"
      ]
    },
    {
      "cell_type": "code",
      "execution_count": 9,
      "metadata": {
        "colab": {
          "base_uri": "https://localhost:8080/"
        },
        "id": "AH19nyKSGtHT",
        "outputId": "d1139085-1d82-4715-fb16-bc68187ddd3d"
      },
      "outputs": [
        {
          "output_type": "stream",
          "name": "stdout",
          "text": [
            "Simulación con 100000 iteraciones:\n",
            "→ P(T < 4) = 0.6506\n",
            "→ P(C1 | T > 4) = 0.3038\n",
            "→ P(C2 | T > 4) = 0.3342\n",
            "→ P(C3 | T > 4) = 0.3620\n"
          ]
        }
      ],
      "source": [
        "import random\n",
        "import numpy as np\n",
        "\n",
        "def prob_tiempos_de_espera(n=1000):\n",
        "    # Contadores para casos T > 4 en cada caja\n",
        "    contadores = {\n",
        "        'c1': 0,\n",
        "        'c2': 0,\n",
        "        'c3': 0\n",
        "    }\n",
        "\n",
        "    # Generar tiempos según exponencial (medias 3, 4, 5)\n",
        "    samples = {\n",
        "        'c1': iter(np.random.exponential(scale=3, size=n)),\n",
        "        'c2': iter(np.random.exponential(scale=4, size=n)),\n",
        "        'c3': iter(np.random.exponential(scale=5, size=n)),\n",
        "    }\n",
        "\n",
        "    # Proporciones de selección por caja\n",
        "    probabilidades_cajas = {'c1': 0.4, 'c2': 0.32, 'c3': 0.28}\n",
        "\n",
        "    total_mas_de_4 = 0\n",
        "\n",
        "    for _ in range(n):\n",
        "        u = random.random()\n",
        "        if u <= 0.4:\n",
        "            caja = 'c1'\n",
        "        elif u <= 0.72:\n",
        "            caja = 'c2'\n",
        "        else:\n",
        "            caja = 'c3'\n",
        "\n",
        "        tiempo = next(samples[caja])\n",
        "        if tiempo > 4:\n",
        "            contadores[caja] += 1\n",
        "            total_mas_de_4 += 1\n",
        "\n",
        "    # Resultados\n",
        "    prob_menos_de_4 = 1 - total_mas_de_4 / n\n",
        "    prob_c1_si_mas_de_4 = contadores['c1'] / total_mas_de_4\n",
        "    prob_c2_si_mas_de_4 = contadores['c2'] / total_mas_de_4\n",
        "    prob_c3_si_mas_de_4 = contadores['c3'] / total_mas_de_4\n",
        "\n",
        "    print(f\"Simulación con {n} iteraciones:\")\n",
        "    print(f\"→ P(T < 4) = {prob_menos_de_4:.4f}\")\n",
        "    print(f\"→ P(C1 | T > 4) = {prob_c1_si_mas_de_4:.4f}\")\n",
        "    print(f\"→ P(C2 | T > 4) = {prob_c2_si_mas_de_4:.4f}\")\n",
        "    print(f\"→ P(C3 | T > 4) = {prob_c3_si_mas_de_4:.4f}\")\n",
        "\n",
        "\n",
        "prob_tiempos_de_espera(100000)\n"
      ]
    }
  ]
}