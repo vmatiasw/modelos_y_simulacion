{
  "nbformat": 4,
  "nbformat_minor": 0,
  "metadata": {
    "colab": {
      "provenance": [],
      "toc_visible": true,
      "authorship_tag": "ABX9TyPRlUOYyVucCze7t/EYUnqF",
      "include_colab_link": true
    },
    "kernelspec": {
      "name": "python3",
      "display_name": "Python 3"
    },
    "language_info": {
      "name": "python"
    }
  },
  "cells": [
    {
      "cell_type": "markdown",
      "metadata": {
        "id": "view-in-github",
        "colab_type": "text"
      },
      "source": [
        "<a href=\"https://colab.research.google.com/github/vmatiasw/modelos_y_simulacion/blob/main/P3E5.ipynb\" target=\"_parent\"><img src=\"https://colab.research.google.com/assets/colab-badge.svg\" alt=\"Open In Colab\"/></a>"
      ]
    },
    {
      "cell_type": "code",
      "source": [
        "import random\n",
        "import inspect\n",
        "import re\n",
        "from functools import wraps\n",
        "import math\n",
        "\n",
        "def extraer_codigo(f):\n",
        "    codigo_fuente = inspect.getsource(f).strip()\n",
        "    match = re.search(r'lambda[^,]+', codigo_fuente)\n",
        "    return match.group(0) if match else codigo_fuente\n",
        "\n",
        "def printear(func):\n",
        "    @wraps(func)\n",
        "    def wrapper(*args, **kwargs):\n",
        "        estimacion = func(*args, **kwargs)\n",
        "        f = args[0]  # Se asume que el primer argumento es la lambda\n",
        "        formula = extraer_codigo(f)\n",
        "        print(f'Estimación con {func.__name__}:')\n",
        "        print(f'{formula} = {estimacion}')\n",
        "        print()\n",
        "        return estimacion\n",
        "    return wrapper\n",
        "\n",
        "@printear\n",
        "def integral_infinita(f, n=10000):\n",
        "    acc = 0\n",
        "    for _ in range(n):\n",
        "        u = random.random()\n",
        "        x = math.tan(math.pi * (u - 0.5))\n",
        "        fx = f(x)\n",
        "        dx_du = math.pi * (1 / math.cos(math.pi * (u - 0.5)))**2  # sec^2\n",
        "        acc += fx * dx_du\n",
        "    return acc / n\n",
        "\n",
        "@printear\n",
        "def estimar_Uab(f, a, b, n=10000):\n",
        "    acc = 0\n",
        "    for _ in range(n):\n",
        "        u = random.uniform(a, b)\n",
        "        acc += f(u)\n",
        "    return (b - a) * acc / n\n",
        "\n",
        "@printear\n",
        "def estimar_U01(f, n=100000):\n",
        "    acc = 0\n",
        "    for _ in range(n):\n",
        "        u = random.random()\n",
        "        acc += f(u)\n",
        "    return acc / n\n",
        "\n",
        "\n",
        "estimar_U01(lambda x: (1-x**2)**(3/2))\n",
        "estimar_U01(lambda x: (x+2)/((x+2)**2-1))\n",
        "estimar_U01(lambda x: (1/x-1)*(1+(1/x-1)**2)**(-2)*(1/x**2))\n",
        "integral_infinita(lambda x: math.exp(-(x)**2))\n",
        "#...\n",
        "\n",
        "None"
      ],
      "metadata": {
        "colab": {
          "base_uri": "https://localhost:8080/"
        },
        "id": "_9lGcx2Ifg0G",
        "outputId": "214387cd-d5f5-4b15-d9f3-fc46f454e9ec"
      },
      "execution_count": 24,
      "outputs": [
        {
          "output_type": "stream",
          "name": "stdout",
          "text": [
            "Estimación con estimar_U01:\n",
            "lambda x: (1-x**2)**(3/2)) = 0.5898508335777507\n",
            "\n",
            "Estimación con estimar_U01:\n",
            "lambda x: (x+2)/((x+2)**2-1)) = 0.4901894178971692\n",
            "\n",
            "Estimación con estimar_U01:\n",
            "lambda x: (1/x-1)*(1+(1/x-1)**2)**(-2)*(1/x**2)) = 0.5000429946858714\n",
            "\n",
            "Estimación con integral_infinita:\n",
            "lambda x: math.exp(-(x)**2)) = 1.7837490808406773\n",
            "\n"
          ]
        }
      ]
    }
  ]
}