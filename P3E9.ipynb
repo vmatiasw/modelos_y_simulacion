{
  "nbformat": 4,
  "nbformat_minor": 0,
  "metadata": {
    "colab": {
      "provenance": [],
      "toc_visible": true,
      "authorship_tag": "ABX9TyPdrK9G1pvpFgFbQu49UQxU",
      "include_colab_link": true
    },
    "kernelspec": {
      "name": "python3",
      "display_name": "Python 3"
    },
    "language_info": {
      "name": "python"
    }
  },
  "cells": [
    {
      "cell_type": "markdown",
      "metadata": {
        "id": "view-in-github",
        "colab_type": "text"
      },
      "source": [
        "<a href=\"https://colab.research.google.com/github/vmatiasw/modelos_y_simulacion/blob/main/P3E9.ipynb\" target=\"_parent\"><img src=\"https://colab.research.google.com/assets/colab-badge.svg\" alt=\"Open In Colab\"/></a>"
      ]
    },
    {
      "cell_type": "code",
      "source": [
        "import random\n",
        "\n",
        "def estimar_prob_ganar_juego(iteraciones=1000000):\n",
        "  victorias = 0\n",
        "  for i in range(iteraciones):\n",
        "    dado = random.randint(1, 6)\n",
        "    if dado in [1,6]:\n",
        "      dado = random.randint(1, 6)\n",
        "      victorias += dado*2 > 6\n",
        "    else:\n",
        "      dado1 = random.randint(1, 6)\n",
        "      dado2 = random.randint(1, 6)\n",
        "      victorias += dado1 + dado2 > 6\n",
        "  return victorias / iteraciones\n",
        "\n",
        "estimar_prob_ganar_juego()"
      ],
      "metadata": {
        "colab": {
          "base_uri": "https://localhost:8080/"
        },
        "id": "1rk5bRhm_-Eu",
        "outputId": "48204d67-9c19-4da5-f318-6ec82b5509f1"
      },
      "execution_count": 31,
      "outputs": [
        {
          "output_type": "execute_result",
          "data": {
            "text/plain": [
              "0.555193"
            ]
          },
          "metadata": {},
          "execution_count": 31
        }
      ]
    }
  ]
}