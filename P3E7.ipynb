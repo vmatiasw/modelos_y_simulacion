{
  "nbformat": 4,
  "nbformat_minor": 0,
  "metadata": {
    "colab": {
      "provenance": [],
      "toc_visible": true,
      "authorship_tag": "ABX9TyNZqgLCSZggOqzH+P2rhFDs",
      "include_colab_link": true
    },
    "kernelspec": {
      "name": "python3",
      "display_name": "Python 3"
    },
    "language_info": {
      "name": "python"
    }
  },
  "cells": [
    {
      "cell_type": "markdown",
      "metadata": {
        "id": "view-in-github",
        "colab_type": "text"
      },
      "source": [
        "<a href=\"https://colab.research.google.com/github/vmatiasw/modelos_y_simulacion/blob/main/P3E7.ipynb\" target=\"_parent\"><img src=\"https://colab.research.google.com/assets/colab-badge.svg\" alt=\"Open In Colab\"/></a>"
      ]
    },
    {
      "cell_type": "code",
      "source": [
        "import random\n",
        "\n",
        "def estimar_esperanza_de_N(iteraciones=100):\n",
        "  esperanza = 0\n",
        "  for _ in range(iteraciones):\n",
        "    s = 0\n",
        "    c = 0\n",
        "    while (s<=1):\n",
        "      s += random.random()\n",
        "      c += 1\n",
        "    esperanza += c/iteraciones\n",
        "  return esperanza\n",
        "\n",
        "for i in range(1,7):\n",
        "  print('  ',estimar_esperanza_de_N(10**i))\n",
        "\n",
        "import math ;\n",
        "print('e:',math.e)"
      ],
      "metadata": {
        "colab": {
          "base_uri": "https://localhost:8080/"
        },
        "id": "1rk5bRhm_-Eu",
        "outputId": "ab9c2bfc-2aba-45c3-aad0-05ea1716ee9e"
      },
      "execution_count": 13,
      "outputs": [
        {
          "output_type": "stream",
          "name": "stdout",
          "text": [
            "   2.7999999999999994\n",
            "   2.6699999999999995\n",
            "   2.7089999999999685\n",
            "   2.7168999999999732\n",
            "   2.7168100000012303\n",
            "   2.717848999974492\n",
            "e: 2.718281828459045\n"
          ]
        }
      ]
    }
  ]
}