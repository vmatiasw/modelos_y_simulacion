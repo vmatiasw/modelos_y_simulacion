{
  "nbformat": 4,
  "nbformat_minor": 0,
  "metadata": {
    "colab": {
      "provenance": [],
      "authorship_tag": "ABX9TyNK57g39DYgsAZG7CmUGmi0",
      "include_colab_link": true
    },
    "kernelspec": {
      "name": "python3",
      "display_name": "Python 3"
    },
    "language_info": {
      "name": "python"
    }
  },
  "cells": [
    {
      "cell_type": "markdown",
      "metadata": {
        "id": "view-in-github",
        "colab_type": "text"
      },
      "source": [
        "<a href=\"https://colab.research.google.com/github/vmatiasw/modelos_y_simulacion/blob/main/P4E8.ipynb\" target=\"_parent\"><img src=\"https://colab.research.google.com/assets/colab-badge.svg\" alt=\"Open In Colab\"/></a>"
      ]
    },
    {
      "cell_type": "code",
      "source": [
        "import pandas as pd\n",
        "from collections import Counter\n",
        "import random\n",
        "import time\n",
        "import numpy as np\n",
        "import math"
      ],
      "metadata": {
        "id": "xcjObWTBWLpv"
      },
      "execution_count": 96,
      "outputs": []
    },
    {
      "cell_type": "code",
      "source": [
        "def medir_tiempo(func):\n",
        "    inicio = time.perf_counter()\n",
        "    resultado = func()\n",
        "    duracion = time.perf_counter() - inicio\n",
        "    return resultado, duracion\n",
        "\n",
        "def calcular_TVD(dict_d1, dict_d2):\n",
        "    \"\"\"Distancia Total de Variación (TVD) entre dos distribuciones.\"\"\"\n",
        "    soporte_total = set(dict_d1) | set(dict_d2)\n",
        "    return 0.5 * sum(abs(dict_d1.get(k, 0) - dict_d2.get(k, 0)) for k in soporte_total)\n",
        "\n",
        "def calcular_momentos(dict_fpm):\n",
        "    \"\"\"Calcula esperanza, varianza y desviación estándar de una distribución discreta.\"\"\"\n",
        "    esperanza = sum(x * p for x, p in dict_fpm.items())\n",
        "    varianza = sum((x - esperanza)**2 * p for x, p in dict_fpm.items())\n",
        "    return esperanza, varianza, varianza**0.5\n",
        "\n",
        "# --------------------------- Pandas ---------------------------\n",
        "\n",
        "def generar_df_distribucion(dict_fpm):\n",
        "    \"\"\"Genera un DataFrame a partir de un diccionario FPM cualquiera.\"\"\"\n",
        "    soporte = list(dict_fpm.keys())\n",
        "    data = [{\n",
        "        \"Datos\": f\"P({x})\",\n",
        "        \"Valor\": dict_fpm.get(x, 0)\n",
        "    } for x in soporte]\n",
        "\n",
        "    esp, var, desv = calcular_momentos(dict_fpm)\n",
        "\n",
        "    resumen = [\n",
        "        {\"Datos\": \"Esperanza\", \"Valor\": esp},\n",
        "        {\"Datos\": \"Varianza\", \"Valor\": var},\n",
        "        {\"Datos\": \"Desv. Est.\", \"Valor\": desv},\n",
        "    ]\n",
        "\n",
        "    return pd.concat([pd.DataFrame(data), pd.DataFrame(resumen)], ignore_index=True)\n",
        "\n",
        "def comparar_df_distribuciones(dict_fpm_A, dict_fpm_B):\n",
        "    df_A = generar_df_distribucion(dict_fpm_A)\n",
        "    df_B = generar_df_distribucion(dict_fpm_B)\n",
        "\n",
        "    df_comparacion = pd.DataFrame({\n",
        "        \"Datos\": df_B[\"Datos\"],\n",
        "        \"A\": df_A[\"Valor\"],\n",
        "        \"B\": df_B[\"Valor\"],\n",
        "    })\n",
        "    df_comparacion[\"Diferencia\"] = (df_comparacion[\"A\"] - df_comparacion[\"B\"]).abs()\n",
        "\n",
        "    return df_comparacion\n",
        "\n",
        "# --------------------------- Calificadores / Analizadores ---------------------------\n",
        "def calificar_generador_de_muestras(generador, dict_fpm_real, n=100_000):\n",
        "  soporte = list(dict_fpm_real.keys())\n",
        "\n",
        "  muestras, tiempos = zip(*(medir_tiempo(generador) for _ in range(n)))\n",
        "  frec = Counter(muestras)\n",
        "  dict_fpm_estimada = {x: frec.get(x, 0) / n for x in soporte}\n",
        "\n",
        "  df_comparacion = comparar_df_distribuciones(dict_fpm_estimada, dict_fpm_real)\n",
        "  tvd = calcular_TVD(dict_fpm_estimada, dict_fpm_real)\n",
        "  t_prom = np.mean(tiempos)\n",
        "\n",
        "  print(\"Estimada (A) vs Real (B)\")\n",
        "  print(df_comparacion.to_string(index=False))\n",
        "  print()\n",
        "  print(f\"Distancia total de variación: {tvd:.6f}\")\n",
        "  print(f\"Tiempo promedio de ejecución: {t_prom} segundos\")\n",
        "\n",
        "def analizar_generador_de_muestras(generador, n=100_000):\n",
        "  muestras, tiempos = zip(*(medir_tiempo(generador) for _ in range(n)))\n",
        "\n",
        "  frec = Counter(muestras)\n",
        "  soporte = sorted(list(frec.keys()))\n",
        "  dict_fpm_estimada = {x: frec.get(x, 0) / n for x in soporte}\n",
        "  df_fpm_estimada = generar_df_distribucion(dict_fpm_estimada)\n",
        "\n",
        "  t_prom = np.mean(tiempos)\n",
        "\n",
        "  print(\"FPM estimada:\")\n",
        "  print(df_fpm_estimada.to_string(index=False))\n",
        "  print()\n",
        "  print(f\"Tiempo promedio de ejecución: {t_prom} segundos\")\n",
        "\n",
        "# --------------------------- Utilidades ---------------------------\n",
        "\n",
        "def ordenar_dict_fpm_por_probabilidad(dict_fpm):\n",
        "  return dict(sorted(dict_fpm.items(), key=lambda x: x[1], reverse=True))\n",
        "\n",
        "def calcular_dict_fda(dict_fpm):\n",
        "  \"\"\"\n",
        "  Recibe una funcion de probabilidad de masa en forma de diccionario de pares\n",
        "  (valor, probabilidad) y devuelve su funcion de distribucion acumulada.\n",
        "  Solo definidas para el soporte.\n",
        "  \"\"\"\n",
        "  dict_fda = {}\n",
        "  acc = 0\n",
        "  for v, p in dict_fpm.items():\n",
        "    acc += p\n",
        "    dict_fda[v] = acc\n",
        "  return dict_fda\n",
        "\n",
        "# def crear_dict_fpm(soporte, fpm):\n",
        "#   return {v: fpm(v) for v in soporte}\n",
        "\n",
        "# dict_fpm = dict(gen_fpm)\n",
        "\n",
        "def probabilidad(condicion, n):\n",
        "    exitos = sum(condicion() for _ in range(n))\n",
        "    return exitos / n\n",
        "\n",
        "# def TI(fpm): # soporte subarreglo de [0, 1, ..., inf]\n",
        "#   u = random.random()\n",
        "#   i = 0; i_fda = fpm(0)\n",
        "#   while u >= i_fda:\n",
        "#     i += 1; i_fda += fpm(i)\n",
        "#   return i\n",
        "\n",
        "def TI(dict_fda):\n",
        "  u = random.random()\n",
        "  for v, p in dict_fda.items():\n",
        "    if u < p:\n",
        "      return v\n",
        "\n",
        "def AyR(dict_fpm_objetivo, fpm_propuesta, dict_fpm_propuesta, C):\n",
        "    while True:\n",
        "        muestra = fpm_propuesta()\n",
        "        prob_objetivo = dict_fpm_objetivo.get(muestra, 0)\n",
        "        prob_propuesta = dict_fpm_propuesta.get(muestra, 0)\n",
        "\n",
        "        if prob_propuesta == 0:\n",
        "            continue\n",
        "\n",
        "        if random.random() < prob_objetivo / (C * prob_propuesta):\n",
        "            return muestra"
      ],
      "metadata": {
        "id": "5BFAexMVS7GG"
      },
      "execution_count": 97,
      "outputs": []
    },
    {
      "cell_type": "code",
      "source": [
        "# a) Desarrolle el método de la Transformada Inversa y el de Rechazo para generar\n",
        "# una variable aleatoria X cuya distribución de probabilidad está dada por: ...\n",
        "\n",
        "def gen_poisson(lambd):\n",
        "  p_anterior = math.exp(-lambd)  # P(X=0)\n",
        "  acc = p_anterior\n",
        "  yield 0, p_anterior\n",
        "  i = 1\n",
        "  while acc < 1 - 1e-10:  # Debido a los redondeos de flotantes\n",
        "    p_actual = (lambd / i) * p_anterior  # P(X=i) = (lambda/i) * P(X=i-1)\n",
        "    yield i, p_actual\n",
        "    acc += p_actual\n",
        "    p_anterior = p_actual\n",
        "    i += 1\n",
        "\n",
        "def gen_fpm_X(lambd, k):\n",
        "  gen = gen_poisson(lambd)\n",
        "  fda_k = sum(next(gen)[1] for _ in range(k+1))\n",
        "\n",
        "  gen = gen_poisson(lambd)\n",
        "  for _ in range(k+1):\n",
        "    i, p = next(gen)\n",
        "    yield i, p/fda_k"
      ],
      "metadata": {
        "id": "g5lKLhlUAUuw"
      },
      "execution_count": 98,
      "outputs": []
    },
    {
      "cell_type": "code",
      "source": [
        "# b) Estime P(X > 2) con k = 10 y λ = 0,7, y 1000 repeticiones. Compare con el valor exacto.\n",
        "LAMBDA = 0.7\n",
        "K = 10\n",
        "N = 1_000\n",
        "dict_fpm_objetivo = dict(gen_fpm_X(LAMBDA, K))\n",
        "\n",
        "# TI\n",
        "dict_fda_objetivo = calcular_dict_fda(dict_fpm_objetivo)\n",
        "generador_de_muestras_TI = lambda: TI(dict_fda_objetivo)\n",
        "\n",
        "# AyC\n",
        "soporte = list(dict_fpm_objetivo.keys())\n",
        "qy = 1/len(soporte)\n",
        "dict_fpm_propuesta = dict.fromkeys(soporte, qy)\n",
        "C = max(dict_fpm_objetivo.values())/qy\n",
        "\n",
        "def fpm_propuesta():\n",
        "  return soporte[int(random.random() * len(soporte))]\n",
        "\n",
        "generador_de_muestras_AyR = lambda: AyR(dict_fpm_objetivo, fpm_propuesta, dict_fpm_propuesta, C)\n",
        "\n",
        "\n",
        "print(probabilidad(lambda: generador_de_muestras_TI() > 2, N))\n",
        "print(probabilidad(lambda: generador_de_muestras_AyR() > 2, N))\n",
        "\n",
        "print(1 - dict_fda_objetivo[2]) # mejor aproximacion"
      ],
      "metadata": {
        "colab": {
          "base_uri": "https://localhost:8080/"
        },
        "id": "8BhqMrx2cHqj",
        "outputId": "db12bda6-ae67-49ba-9ae3-ad3f90760a91"
      },
      "execution_count": 99,
      "outputs": [
        {
          "output_type": "stream",
          "name": "stdout",
          "text": [
            "0.036\n",
            "0.035\n",
            "0.03414158387347266\n"
          ]
        }
      ]
    },
    {
      "cell_type": "code",
      "source": [
        "# c) Generalice el problema escribiendo un pseudocódigo para el metodo de rechazo\n",
        "# para cualquier variable aleatoria truncada usando como soporte a la variable\n",
        "# original (con “cualquier variable aleatoria truncada” nos referimos a una\n",
        "# variable como la vista en el inciso (a) pero ahora truncada en cualquier\n",
        "# parte i = (a,...,b).\n",
        "\n",
        "def gen_fpm_truncada(get_gen_fpm, condicion):\n",
        "  gen = get_gen_fpm()\n",
        "  fda_k = sum(p for i, p in gen if condicion(i))\n",
        "\n",
        "  gen = get_gen_fpm()\n",
        "  for i, p in gen:\n",
        "    if not condicion(i):\n",
        "      continue\n",
        "\n",
        "    yield i, p/fda_k\n",
        "\n",
        "# print(dict(gen_fpm_truncada(lambda: gen_poisson(LAMBDA) , lambda i: 0 <= i and i <= K)))\n",
        "# print(dict(gen_fpm_X(LAMBDA, K)))\n",
        "\n",
        "dict(gen_fpm_truncada(lambda: gen_poisson(LAMBDA) , lambda i: 3 <= i and i <= 8))"
      ],
      "metadata": {
        "colab": {
          "base_uri": "https://localhost:8080/"
        },
        "id": "LMFuvq2IcOeH",
        "outputId": "8af0d88d-858d-4d2c-89d4-de23c7ef40dc"
      },
      "execution_count": 104,
      "outputs": [
        {
          "output_type": "stream",
          "name": "stdout",
          "text": [
            "{0: 0.4965853039210938, 1: 0.34760971274476565, 2: 0.12166339946066797, 3: 0.028388126540822522, 4: 0.0049679221446439405, 5: 0.0006955091002501517, 6: 8.114272836251768e-05, 7: 8.114272836251768e-06, 8: 7.099988731720297e-07, 9: 5.522213458004675e-08, 10: 3.865549420603272e-09}\n",
            "{0: 0.4965853039210938, 1: 0.34760971274476565, 2: 0.12166339946066797, 3: 0.028388126540822522, 4: 0.0049679221446439405, 5: 0.0006955091002501517, 6: 8.114272836251768e-05, 7: 8.114272836251768e-06, 8: 7.099988731720297e-07, 9: 5.522213458004675e-08, 10: 3.865549420603272e-09}\n"
          ]
        },
        {
          "output_type": "execute_result",
          "data": {
            "text/plain": [
              "{3: 0.8314838519643127,\n",
              " 4: 0.1455096740937547,\n",
              " 5: 0.020371354373125657,\n",
              " 6: 0.002376658010197993,\n",
              " 7: 0.0002376658010197993,\n",
              " 8: 2.0795757589232436e-05}"
            ]
          },
          "metadata": {},
          "execution_count": 104
        }
      ]
    }
  ]
}