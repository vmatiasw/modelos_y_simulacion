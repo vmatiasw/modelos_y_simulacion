{
  "nbformat": 4,
  "nbformat_minor": 0,
  "metadata": {
    "colab": {
      "provenance": [],
      "authorship_tag": "ABX9TyOfAuxmcqzXfo//aspxLEIE",
      "include_colab_link": true
    },
    "kernelspec": {
      "name": "python3",
      "display_name": "Python 3"
    },
    "language_info": {
      "name": "python"
    }
  },
  "cells": [
    {
      "cell_type": "markdown",
      "metadata": {
        "id": "view-in-github",
        "colab_type": "text"
      },
      "source": [
        "<a href=\"https://colab.research.google.com/github/vmatiasw/modelos_y_simulacion/blob/main/P4E2.ipynb\" target=\"_parent\"><img src=\"https://colab.research.google.com/assets/colab-badge.svg\" alt=\"Open In Colab\"/></a>"
      ]
    },
    {
      "cell_type": "code",
      "source": [
        "import random\n",
        "import numpy as np\n",
        "import time\n",
        "\n",
        "def medir_tiempo(func):\n",
        "    inicio = time.perf_counter()\n",
        "    resultado = func()\n",
        "    fin = time.perf_counter()\n",
        "    print()\n",
        "    print(f\"Tiempo de ejecución: {fin - inicio:.6f} segundos\")\n",
        "    return resultado\n",
        "\n",
        "def estimar(func, iteraciones):\n",
        "    return sum(func() for _ in range(iteraciones)) / iteraciones\n",
        "\n",
        "N = 10_000\n",
        "def f_random():\n",
        "  u = random.random()\n",
        "  k = int(u * (N+1))\n",
        "  return np.exp(k/N)\n",
        "\n",
        "def estimar_f():\n",
        "  return estimar(f_random,100)*N\n",
        "print('estimacion con 100 aleatorios entre 0 y N: ', medir_tiempo(estimar_f))\n",
        "\n",
        "def f_exacto(n=N):\n",
        "  return sum(np.exp(i / N) for i in range(n))\n",
        "\n",
        "print('calculo exacto: ', medir_tiempo(f_exacto))\n",
        "print('suma de los primeros 100: ', medir_tiempo(lambda:f_exacto(100)))"
      ],
      "metadata": {
        "colab": {
          "base_uri": "https://localhost:8080/"
        },
        "id": "mPX-b3tWu1yE",
        "outputId": "c9db61ee-e543-4e27-c839-c8f3057fd94c"
      },
      "execution_count": 100,
      "outputs": [
        {
          "output_type": "stream",
          "name": "stdout",
          "text": [
            "\n",
            "Tiempo de ejecución: 0.000350 segundos\n",
            "estimacion con 100 aleatorios entre 0 y N:  16628.984854223952\n",
            "\n",
            "Tiempo de ejecución: 0.012245 segundos\n",
            "calculo exacto:  17181.959157995243\n",
            "\n",
            "Tiempo de ejecución: 0.000126 segundos\n",
            "suma de los primeros 100:  100.49664584188989\n"
          ]
        }
      ]
    }
  ]
}