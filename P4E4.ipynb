{
  "nbformat": 4,
  "nbformat_minor": 0,
  "metadata": {
    "colab": {
      "provenance": [],
      "authorship_tag": "ABX9TyPBwRdo60fu9I4xQ8LZMCZh",
      "include_colab_link": true
    },
    "kernelspec": {
      "name": "python3",
      "display_name": "Python 3"
    },
    "language_info": {
      "name": "python"
    }
  },
  "cells": [
    {
      "cell_type": "markdown",
      "metadata": {
        "id": "view-in-github",
        "colab_type": "text"
      },
      "source": [
        "<a href=\"https://colab.research.google.com/github/vmatiasw/modelos_y_simulacion/blob/main/P4E4.ipynb\" target=\"_parent\"><img src=\"https://colab.research.google.com/assets/colab-badge.svg\" alt=\"Open In Colab\"/></a>"
      ]
    },
    {
      "cell_type": "code",
      "source": [
        "import pandas as pd\n",
        "from collections import Counter\n",
        "import random\n",
        "import time\n",
        "\n",
        "FUNCION_DE_PROBABILIDAD = {i+1: p for i, p in enumerate([0.11, 0.14, 0.09, 0.08, 0.12, 0.10, 0.09, 0.07, 0.11, 0.09])}\n",
        "SOPORTE = FUNCION_DE_PROBABILIDAD.keys()\n",
        "print(FUNCION_DE_PROBABILIDAD)\n",
        "\n",
        "def medir_tiempo(func):\n",
        "    inicio = time.perf_counter()\n",
        "    resultado = func()\n",
        "    fin = time.perf_counter()\n",
        "    return resultado, fin - inicio\n",
        "\n",
        "def obtener_DataFrame(funcion_de_probabilidad, P):\n",
        "  data = {\n",
        "      \"X\": list(funcion_de_probabilidad.keys()),\n",
        "      \"P(X) Real\": [P[x] for x in funcion_de_probabilidad.keys()],\n",
        "      \"Estimación\": list(funcion_de_probabilidad.values()),\n",
        "      \"Diferencia\": [abs(P[x] - funcion_de_probabilidad[x]) for x in funcion_de_probabilidad.keys()]\n",
        "  }\n",
        "  return pd.DataFrame(data)\n",
        "\n",
        "def estimar_funcion_de_probabilidad(p, soporte, n):\n",
        "  muestras = [p() for _ in range(n)]\n",
        "  frecuencias = Counter(muestras)\n",
        "\n",
        "  funcion_de_probabilidad = {x: frecuencias.get(x, 0) / n for x in soporte}\n",
        "\n",
        "  return funcion_de_probabilidad\n",
        "\n",
        "def calcular_TVD(f_estimada, f_real):\n",
        "  \"\"\"\n",
        "  Calcula la Distancia Total de Variación (TVD) entre dos distribuciones discretas.\n",
        "  Es una métrica entre 0 y 1 que mide la diferencia total entre probabilidades.\n",
        "\n",
        "  Se interpreta como el máximo error total posible al usar la distribución estimada\n",
        "  en lugar de la distribución real.\n",
        "  \"\"\"\n",
        "  return 0.5 * sum(abs(f_real[x] - f_estimada.get(x, 0)) for x in f_real)\n",
        "\n",
        "def calificar_generador(generador_de_muestras):\n",
        "  n = 100_000\n",
        "  f_estimada, tiempo = medir_tiempo(lambda: estimar_funcion_de_probabilidad(generador_de_muestras, SOPORTE, n))\n",
        "  print(f\"Tiempo de ejecución: {tiempo/n:.6f} segundos\")\n",
        "  print(obtener_DataFrame(f_estimada, FUNCION_DE_PROBABILIDAD))\n",
        "  tvd = calcular_TVD(f_estimada, FUNCION_DE_PROBABILIDAD)\n",
        "  print(f\"Distancia total de variación (TVD): {tvd:.6f}\")\n"
      ],
      "metadata": {
        "colab": {
          "base_uri": "https://localhost:8080/"
        },
        "id": "yZKwzd4FEqcw",
        "outputId": "271d3618-7387-4fdf-c927-eff26a6bb452"
      },
      "execution_count": 253,
      "outputs": [
        {
          "output_type": "stream",
          "name": "stdout",
          "text": [
            "{1: 0.11, 2: 0.14, 3: 0.09, 4: 0.08, 5: 0.12, 6: 0.1, 7: 0.09, 8: 0.07, 9: 0.11, 10: 0.09}\n"
          ]
        }
      ]
    },
    {
      "cell_type": "code",
      "source": [
        "# a) Método de rechazo con una uniforme discreta, buscando la cota c más baja posible.\n",
        "QY = 1/10\n",
        "\n",
        "def AyR(p, q, c):\n",
        "  \"\"\"\n",
        "  Método de aceptación-rechazo para generar muestras de la distribución `p` usando una distribución propuesta `q` y una constante `c`.\n",
        "\n",
        "  Parámetros:\n",
        "  p (list/dict): Distribución de probabilidad, donde `p[y]` es la probabilidad asociada a un valor `y`.\n",
        "  q (function): Función que genera un valor aleatorio `y` según la distribución propuesta.\n",
        "  c (float): Constante de escala que ajusta la relación entre `p` y `q`.\n",
        "\n",
        "  Devuelve:\n",
        "  int: Un valor `y` del soporte de `p` basado en la probabilidad ajustada por `q` y `c`.\n",
        "  \"\"\"\n",
        "  while True:\n",
        "    u = random.random()\n",
        "    y = q()\n",
        "    py = p[y]\n",
        "    if u < py/(QY*c):\n",
        "      return y\n",
        "\n",
        "def q():\n",
        "  u = random.random()\n",
        "  return int(u*len(FUNCION_DE_PROBABILIDAD)+1) # cada valor con prob 1/10;\n",
        "\n",
        "generador_de_muestras = lambda: AyR(FUNCION_DE_PROBABILIDAD, q, 1.4)\n",
        "calificar_generador(generador_de_muestras)"
      ],
      "metadata": {
        "colab": {
          "base_uri": "https://localhost:8080/"
        },
        "id": "dJlcSOiYhJ9b",
        "outputId": "5b87dd7a-2ffb-43f3-f479-52dfa59991f7"
      },
      "execution_count": 277,
      "outputs": [
        {
          "output_type": "stream",
          "name": "stdout",
          "text": [
            "Tiempo de ejecución: 0.000001 segundos\n",
            "    X  P(X) Real  Estimación  Diferencia\n",
            "0   1       0.11     0.10911     0.00089\n",
            "1   2       0.14     0.14020     0.00020\n",
            "2   3       0.09     0.08927     0.00073\n",
            "3   4       0.08     0.08088     0.00088\n",
            "4   5       0.12     0.11863     0.00137\n",
            "5   6       0.10     0.10051     0.00051\n",
            "6   7       0.09     0.09055     0.00055\n",
            "7   8       0.07     0.07115     0.00115\n",
            "8   9       0.11     0.10988     0.00012\n",
            "9  10       0.09     0.08982     0.00018\n",
            "Distancia total de variación (TVD): 0.003290\n"
          ]
        }
      ]
    },
    {
      "cell_type": "code",
      "source": [
        "# b) Método de rechazo con una uniforme discreta, usando c = 3.\n",
        "\n",
        "generador_de_muestras = lambda: AyR(FUNCION_DE_PROBABILIDAD, q, 3)\n",
        "calificar_generador(generador_de_muestras)"
      ],
      "metadata": {
        "colab": {
          "base_uri": "https://localhost:8080/"
        },
        "id": "xaMoPGTn0Yhd",
        "outputId": "b6bf5ff4-1a6f-4cc5-b3f9-f16ffebc49ef"
      },
      "execution_count": 269,
      "outputs": [
        {
          "output_type": "stream",
          "name": "stdout",
          "text": [
            "Tiempo de ejecución: 0.000003 segundos\n",
            "    X  P(X) Real  Estimación  Diferencia\n",
            "0   1       0.11     0.11244     0.00244\n",
            "1   2       0.14     0.13739     0.00261\n",
            "2   3       0.09     0.09025     0.00025\n",
            "3   4       0.08     0.08044     0.00044\n",
            "4   5       0.12     0.11964     0.00036\n",
            "5   6       0.10     0.10137     0.00137\n",
            "6   7       0.09     0.08850     0.00150\n",
            "7   8       0.07     0.06914     0.00086\n",
            "8   9       0.11     0.11146     0.00146\n",
            "9  10       0.09     0.08937     0.00063\n",
            "Distancia total de variación (TVD): 0.005960\n"
          ]
        }
      ]
    },
    {
      "cell_type": "code",
      "source": [
        "# c) Transformada inversa.\n",
        "\n",
        "def funcion_distribucion_acumulada(f):\n",
        "  \"\"\"\n",
        "  Recibe una funcion de probabilidad de masa en forma de diccionario de pares\n",
        "  (valor, probabilidad) y devuelve su funcion de distribucion acumulada.\n",
        "  Solo definidas para el soporte.\n",
        "  \"\"\"\n",
        "  F = {}\n",
        "  suma = 0\n",
        "  for valor, probabilidad in f.items():\n",
        "    suma += probabilidad\n",
        "    F[valor] = suma\n",
        "  return F\n",
        "\n",
        "def ordenar_f(f):\n",
        "  return dict(sorted(f.items(), key=lambda x: x[1], reverse=True))\n",
        "\n",
        "def TI(F):\n",
        "  u = random.random()\n",
        "  for v, p in F.items():\n",
        "    if u < p:\n",
        "      return v\n",
        "\n",
        "FDA = funcion_distribucion_acumulada(ordenar_f(FUNCION_DE_PROBABILIDAD))\n",
        "generador_de_muestras = lambda: TI(FDA)\n",
        "calificar_generador(generador_de_muestras)"
      ],
      "metadata": {
        "colab": {
          "base_uri": "https://localhost:8080/"
        },
        "id": "8q8wY7_a0j6t",
        "outputId": "36689d56-096c-46f7-8114-f50ed5167d6a"
      },
      "execution_count": 283,
      "outputs": [
        {
          "output_type": "stream",
          "name": "stdout",
          "text": [
            "Tiempo de ejecución: 0.000001 segundos\n",
            "    X  P(X) Real  Estimación  Diferencia\n",
            "0   1       0.11     0.11210     0.00210\n",
            "1   2       0.14     0.14168     0.00168\n",
            "2   3       0.09     0.09015     0.00015\n",
            "3   4       0.08     0.07963     0.00037\n",
            "4   5       0.12     0.11941     0.00059\n",
            "5   6       0.10     0.09984     0.00016\n",
            "6   7       0.09     0.08880     0.00120\n",
            "7   8       0.07     0.07004     0.00004\n",
            "8   9       0.11     0.10871     0.00129\n",
            "9  10       0.09     0.08964     0.00036\n",
            "Distancia total de variación (TVD): 0.003970\n"
          ]
        }
      ]
    },
    {
      "cell_type": "code",
      "source": [
        "# d) Método de la urna: utilizar un arreglo A de tamaño 100 donde cada valor i\n",
        "# está en exactamente p[i] ∗ 100 posiciones. El método debe devolver A[k] con\n",
        "# probabilidad 0,01. ¿Por qué funciona? -> las probabilidades son de a o sumo\n",
        "# dos decimales y su suma da 1.\n",
        "\n",
        "def generar_urna(funcion_de_probabilidad):\n",
        "    urna = []\n",
        "    for v, p in funcion_de_probabilidad.items():\n",
        "        urna.extend([v] * int(p * 100))\n",
        "    return urna\n",
        "\n",
        "urna = generar_urna(FUNCION_DE_PROBABILIDAD)\n",
        "generador_de_muestras = lambda: urna[int(random.random()*len(urna))]\n",
        "calificar_generador(generador_de_muestras)"
      ],
      "metadata": {
        "colab": {
          "base_uri": "https://localhost:8080/"
        },
        "id": "VXjjgJX6CfyL",
        "outputId": "afcc5c07-0eb3-464e-969d-4f210bdbef96"
      },
      "execution_count": 264,
      "outputs": [
        {
          "output_type": "stream",
          "name": "stdout",
          "text": [
            "Tiempo de ejecución: 0.000001 segundos\n",
            "    X  P(X) Real  Estimación  Diferencia\n",
            "0   1       0.11     0.10997     0.00003\n",
            "1   2       0.14     0.14156     0.00156\n",
            "2   3       0.09     0.09064     0.00064\n",
            "3   4       0.08     0.07953     0.00047\n",
            "4   5       0.12     0.11914     0.00086\n",
            "5   6       0.10     0.09862     0.00138\n",
            "6   7       0.09     0.09095     0.00095\n",
            "7   8       0.07     0.06953     0.00047\n",
            "8   9       0.11     0.11003     0.00003\n",
            "9  10       0.09     0.09003     0.00003\n",
            "Distancia total de variación (TVD): 0.003210\n"
          ]
        }
      ]
    }
  ]
}