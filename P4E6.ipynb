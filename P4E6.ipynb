{
  "nbformat": 4,
  "nbformat_minor": 0,
  "metadata": {
    "colab": {
      "provenance": [],
      "authorship_tag": "ABX9TyPsNdWkRKXiloZIg5sFPHpx",
      "include_colab_link": true
    },
    "kernelspec": {
      "name": "python3",
      "display_name": "Python 3"
    },
    "language_info": {
      "name": "python"
    }
  },
  "cells": [
    {
      "cell_type": "markdown",
      "metadata": {
        "id": "view-in-github",
        "colab_type": "text"
      },
      "source": [
        "<a href=\"https://colab.research.google.com/github/vmatiasw/modelos_y_simulacion/blob/main/P4E6.ipynb\" target=\"_parent\"><img src=\"https://colab.research.google.com/assets/colab-badge.svg\" alt=\"Open In Colab\"/></a>"
      ]
    },
    {
      "cell_type": "code",
      "source": [
        "import pandas as pd\n",
        "from collections import Counter\n",
        "import random\n",
        "import time\n",
        "import numpy as np\n",
        "import math"
      ],
      "metadata": {
        "id": "xcjObWTBWLpv"
      },
      "execution_count": 11,
      "outputs": []
    },
    {
      "cell_type": "code",
      "source": [
        "def medir_tiempo(func):\n",
        "    inicio = time.perf_counter()\n",
        "    resultado = func()\n",
        "    fin = time.perf_counter()\n",
        "    return resultado, fin - inicio\n",
        "\n",
        "def calcular_TVD(dict_fpm_estimada, dict_fpm_real): # Distancia Total de Variación (TVD) entre dos distribuciones discretas.\n",
        "  return 0.5 * sum(abs(dict_fpm_real[x] - dict_fpm_estimada.get(x, 0)) for x in dict_fpm_real)\n",
        "\n",
        "def calcular_momentos(fpm):\n",
        "    esperanza = sum(x * p for x, p in fpm.items())\n",
        "    varianza = sum((x - esperanza)**2 * p for x, p in fpm.items())\n",
        "    desviacion = varianza**0.5\n",
        "    return esperanza, varianza, desviacion\n",
        "\n",
        "def comparar_distribuciones_df(dict_fpm_estimada, dict_fpm_correcta):\n",
        "    data_df = pd.DataFrame({\n",
        "        \"Datos\": [f\"P({k})\" for k in dict_fpm_estimada.keys()],\n",
        "        \"Real\": [dict_fpm_correcta[x] for x in dict_fpm_estimada.keys()],\n",
        "        \"Estimación\": list(dict_fpm_estimada.values()),\n",
        "        \"Diferencia\": [abs(dict_fpm_correcta[x] - dict_fpm_estimada[x]) for x in dict_fpm_estimada.keys()]\n",
        "    })\n",
        "\n",
        "    esp_real, var_real, desv_real = calcular_momentos(dict_fpm_correcta)\n",
        "    esp_est, var_est, desv_est = calcular_momentos(dict_fpm_estimada)\n",
        "\n",
        "    resumen_df = pd.DataFrame([\n",
        "        {\"Datos\": \"Esperanza\", \"Real\": esp_real, \"Estimación\": esp_est, \"Diferencia\": abs(esp_real - esp_est)},\n",
        "        {\"Datos\": \"Varianza\", \"Real\": var_real, \"Estimación\": var_est, \"Diferencia\": abs(var_real - var_est)},\n",
        "        {\"Datos\": \"Desv. Est.\", \"Real\": desv_real, \"Estimación\": desv_est, \"Diferencia\": abs(desv_real - desv_est)},\n",
        "    ])\n",
        "    return pd.concat([data_df, resumen_df], ignore_index=True)\n",
        "\n",
        "def calificar_generador(generador_de_muestras, dict_fpm_correcta, n=100_000):\n",
        "  soporte = dict_fpm_correcta.keys()\n",
        "\n",
        "  muestras, tiempos = zip(*[medir_tiempo(generador_de_muestras) for _ in range(n)])\n",
        "\n",
        "  frecuencia_muestras = Counter(muestras)\n",
        "  dict_fpm_estimada = {x: frecuencia_muestras.get(x, 0) / n for x in soporte}\n",
        "\n",
        "  compracion_df = comparar_distribuciones_df(dict_fpm_estimada, dict_fpm_correcta)\n",
        "  tvd = calcular_TVD(dict_fpm_estimada, dict_fpm_correcta)\n",
        "  tiempo_promedio = np.mean(tiempos)\n",
        "\n",
        "  print(compracion_df)\n",
        "  print()\n",
        "  print(f\"Distancia total de variación: {tvd:.6f}\")\n",
        "  print(f\"Tiempo promedio de ejecución: {tiempo_promedio} segundos\")\n"
      ],
      "metadata": {
        "id": "5BFAexMVS7GG"
      },
      "execution_count": 48,
      "outputs": []
    },
    {
      "cell_type": "code",
      "source": [
        "DICT_FPM = {i+1: p for i, p in enumerate([0.15, 0.20, 0.10, 0.35, 0.20])}\n",
        "SOPORTE = list(DICT_FPM.keys())\n",
        "print('funcion de probabilidad de masa: ',DICT_FPM)\n",
        "print('debe dar 1: ',sum(DICT_FPM.values()))"
      ],
      "metadata": {
        "colab": {
          "base_uri": "https://localhost:8080/"
        },
        "id": "weebfkW_NbFc",
        "outputId": "9d87d9dd-ddeb-4480-de9b-7f1932c898ac"
      },
      "execution_count": 79,
      "outputs": [
        {
          "output_type": "stream",
          "name": "stdout",
          "text": [
            "funcion de probabilidad de masa:  {1: 0.15, 2: 0.2, 3: 0.1, 4: 0.35, 5: 0.2}\n",
            "debe dar 1:  1.0\n"
          ]
        }
      ]
    },
    {
      "cell_type": "code",
      "source": [
        "# I) Describir mediante un pseudocódigo un algoritmo que simule X utilizando el\n",
        "# método de la transformada inversa y que minimice el número esperado de búsquedas.\n",
        "\n",
        "def ordenar_dict_fpm(dict_fpm):\n",
        "  return dict(sorted(dict_fpm.items(), key=lambda x: x[1], reverse=True))\n",
        "\n",
        "def calcular_dict_fda(dict_fpm):\n",
        "  \"\"\"\n",
        "  Recibe una funcion de probabilidad de masa en forma de diccionario de pares\n",
        "  (valor, probabilidad) y devuelve su funcion de distribucion acumulada.\n",
        "  Solo definidas para el soporte.\n",
        "  \"\"\"\n",
        "  F = {}\n",
        "  suma = 0\n",
        "  for valor, probabilidad in dict_fpm.items():\n",
        "    suma += probabilidad\n",
        "    F[valor] = suma\n",
        "  return F\n",
        "\n",
        "def TI(dict_fda):\n",
        "  u = random.random()\n",
        "  for v, p in dict_fda.items():\n",
        "    if u < p:\n",
        "      return v\n",
        "\n",
        "print('Sin ordenar:')\n",
        "dict_fda = calcular_dict_fda(DICT_FPM)\n",
        "generador_de_muestras = lambda: TI(dict_fda)\n",
        "calificar_generador(generador_de_muestras, DICT_FPM)\n",
        "print()\n",
        "print('Ordenando:')\n",
        "dict_fda = calcular_dict_fda(ordenar_dict_fpm(DICT_FPM))\n",
        "generador_de_muestras = lambda: TI(dict_fda)\n",
        "calificar_generador(generador_de_muestras, DICT_FPM)"
      ],
      "metadata": {
        "colab": {
          "base_uri": "https://localhost:8080/"
        },
        "id": "oEuV013GObXr",
        "outputId": "58d7f048-f546-4f57-fc73-47e182dd3995"
      },
      "execution_count": 50,
      "outputs": [
        {
          "output_type": "stream",
          "name": "stdout",
          "text": [
            "Sin ordenar:\n",
            "\n",
            "        Datos      Real  Estimación  Diferencia\n",
            "0        P(1)  0.150000    0.151500    0.001500\n",
            "1        P(2)  0.200000    0.200210    0.000210\n",
            "2        P(3)  0.100000    0.098400    0.001600\n",
            "3        P(4)  0.350000    0.350750    0.000750\n",
            "4        P(5)  0.200000    0.199140    0.000860\n",
            "5   Esperanza  3.250000    3.245820    0.004180\n",
            "6    Varianza  1.887500    1.893093    0.005593\n",
            "7  Desv. Est.  1.373863    1.375897    0.002034\n",
            "\n",
            "Distancia total de variación: 0.002460\n",
            "Tiempo promedio de ejecución: 1.3618944399013344e-06 segundos\n",
            "\n",
            "Ordenando:\n",
            "\n",
            "        Datos      Real  Estimación  Diferencia\n",
            "0        P(1)  0.150000    0.149630    0.000370\n",
            "1        P(2)  0.200000    0.200770    0.000770\n",
            "2        P(3)  0.100000    0.100600    0.000600\n",
            "3        P(4)  0.350000    0.349570    0.000430\n",
            "4        P(5)  0.200000    0.199430    0.000570\n",
            "5   Esperanza  3.250000    3.248400    0.001600\n",
            "6    Varianza  1.887500    1.884877    0.002623\n",
            "7  Desv. Est.  1.373863    1.372908    0.000955\n",
            "\n",
            "Distancia total de variación: 0.001370\n",
            "Tiempo promedio de ejecución: 1.2642912295086716e-06 segundos\n"
          ]
        }
      ]
    },
    {
      "cell_type": "code",
      "source": [
        "# II) Describir mediante un pseudocódigo un algoritmo que simule X utilizando el método de aceptación y\n",
        "# rechazo con una variable soporte Y con distribución binomial B(4,0.45).\n",
        "N_BIN = 4\n",
        "P_BIN = 0.45\n",
        "\n",
        "def crear_dict_fpm(soporte, p):\n",
        "  return {v: p(v) for v in soporte}\n",
        "\n",
        "def adecuar_soporte(dict_fpm_objetivo, dict_fpm_modelo):\n",
        "    soporte_modelo = dict_fpm_modelo.keys()\n",
        "    return {nuevo_k: v for nuevo_k, v in zip(soporte_modelo, dict_fpm_objetivo.values())}\n",
        "\n",
        "def fpm_binomial(k, n=N_BIN, p=P_BIN):\n",
        "    if not 0 <= k <= n:\n",
        "        return 0.0\n",
        "    coef = math.comb(n, k)\n",
        "    prob = coef * (p ** k) * ((1 - p) ** (n - k))\n",
        "    return prob\n",
        "\n",
        "_dict_fpm_binomial = crear_dict_fpm(list(range(N_BIN+1)), fpm_binomial)\n",
        "dict_fpm_binomial = adecuar_soporte(_dict_fpm_binomial, DICT_FPM)\n",
        "\n",
        "print('debe dar 1: ',sum(dict_fpm_binomial.values())) # da cerca por la precision flotante de python\n",
        "print()\n",
        "print(f'X~B({N_BIN},{P_BIN})')\n",
        "for i in range(1,6):\n",
        "  print(f'P(X={i}) = ', dict_fpm_binomial[i])\n",
        "\n",
        "print()\n",
        "print('funcion de probabilidad de masa de p: ',DICT_FPM)"
      ],
      "metadata": {
        "colab": {
          "base_uri": "https://localhost:8080/"
        },
        "id": "GCNw52E75vBh",
        "outputId": "d5443578-3703-4bbc-8231-e8efdf8ff6a3"
      },
      "execution_count": 85,
      "outputs": [
        {
          "output_type": "stream",
          "name": "stdout",
          "text": [
            "debe dar 1:  1.0000000000000002\n",
            "\n",
            "X~B(4,0.45)\n",
            "P(X=1) =  0.09150625000000003\n",
            "P(X=2) =  0.2994750000000001\n",
            "P(X=3) =  0.3675375000000001\n",
            "P(X=4) =  0.20047500000000004\n",
            "P(X=5) =  0.04100625\n",
            "\n",
            "funcion de probabilidad de masa de p:  {1: 0.15, 2: 0.2, 3: 0.1, 4: 0.35, 5: 0.2}\n"
          ]
        }
      ]
    },
    {
      "cell_type": "code",
      "source": [
        "# Método de rechazo con una uniforme discreta, buscando la cota c más baja posible\n",
        "# con las probabilidades dadas.\n",
        "\n",
        "C_posibles = [DICT_FPM[i] / dict_fpm_binomial[i] for i in range(1,6)]\n",
        "C = min(C_posibles)\n",
        "\n",
        "print(C_posibles)\n",
        "print('C = ',C)"
      ],
      "metadata": {
        "colab": {
          "base_uri": "https://localhost:8080/"
        },
        "id": "YpE4XtefEON5",
        "outputId": "1d8fd30c-4602-46fe-8ee7-0dc8a98cd7c7"
      },
      "execution_count": 86,
      "outputs": [
        {
          "output_type": "stream",
          "name": "stdout",
          "text": [
            "[1.6392322928761691, 0.6678353785791801, 0.2720810801618882, 1.745853597705449, 4.877305288827923]\n",
            "C =  0.2720810801618882\n"
          ]
        }
      ]
    },
    {
      "cell_type": "code",
      "source": [
        "def AyR(p, q, c=C):\n",
        "  \"\"\"\n",
        "  Método de aceptación-rechazo para generar muestras de la distribución `p` usando una distribución propuesta `q` y una constante `c`.\n",
        "\n",
        "  Parámetros:\n",
        "  p (list/dict): Distribución de probabilidad, donde `p[y]` es la probabilidad asociada a un valor `y`.\n",
        "  q (function): Función que genera un valor aleatorio `y` según la distribución propuesta.\n",
        "  c (float): Constante de escala que ajusta la relación entre `p` y `q`.\n",
        "\n",
        "  Devuelve:\n",
        "  int: Un valor `y` del soporte de `p` basado en la probabilidad ajustada por `q` y `c`.\n",
        "  \"\"\"\n",
        "  while True:\n",
        "    u = random.random()\n",
        "    y = q()\n",
        "    qy = dict_fpm_binomial[y]\n",
        "    py = p[y]\n",
        "    if u < py/(qy*c):\n",
        "      return y\n",
        "\n",
        "def q():\n",
        "  u = random.random()\n",
        "  indice_random = int(u*len(SOPORTE))\n",
        "  return SOPORTE[indice_random]\n",
        "\n",
        "generador_de_muestras = lambda: AyR(DICT_FPM, q)\n",
        "calificar_generador(generador_de_muestras, DICT_FPM)"
      ],
      "metadata": {
        "colab": {
          "base_uri": "https://localhost:8080/"
        },
        "id": "t23hnNsz-kh5",
        "outputId": "f7371b00-29a2-430f-9e59-5f95be72c0a5"
      },
      "execution_count": 87,
      "outputs": [
        {
          "output_type": "stream",
          "name": "stdout",
          "text": [
            "\n",
            "        Datos      Real  Estimación  Diferencia\n",
            "0        P(1)  0.150000    0.198740    0.048740\n",
            "1        P(2)  0.200000    0.200580    0.000580\n",
            "2        P(3)  0.100000    0.200400    0.100400\n",
            "3        P(4)  0.350000    0.199530    0.150470\n",
            "4        P(5)  0.200000    0.200750    0.000750\n",
            "5   Esperanza  3.250000    3.002970    0.247030\n",
            "6    Varianza  1.887500    1.998061    0.110561\n",
            "7  Desv. Est.  1.373863    1.413528    0.039665\n",
            "\n",
            "Distancia total de variación: 0.150470\n",
            "Tiempo promedio de ejecución: 5.659271889362572e-07 segundos\n"
          ]
        }
      ]
    }
  ]
}