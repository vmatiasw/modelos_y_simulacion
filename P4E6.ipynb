{
  "nbformat": 4,
  "nbformat_minor": 0,
  "metadata": {
    "colab": {
      "provenance": [],
      "include_colab_link": true
    },
    "kernelspec": {
      "name": "python3",
      "display_name": "Python 3"
    },
    "language_info": {
      "name": "python"
    }
  },
  "cells": [
    {
      "cell_type": "markdown",
      "metadata": {
        "id": "view-in-github",
        "colab_type": "text"
      },
      "source": [
        "<a href=\"https://colab.research.google.com/github/vmatiasw/modelos_y_simulacion/blob/main/P4E6.ipynb\" target=\"_parent\"><img src=\"https://colab.research.google.com/assets/colab-badge.svg\" alt=\"Open In Colab\"/></a>"
      ]
    },
    {
      "cell_type": "code",
      "source": [
        "import pandas as pd\n",
        "from collections import Counter\n",
        "import random\n",
        "import time\n",
        "import numpy as np\n",
        "import math"
      ],
      "metadata": {
        "id": "xcjObWTBWLpv"
      },
      "execution_count": 68,
      "outputs": []
    },
    {
      "cell_type": "code",
      "source": [
        "def medir_tiempo(func):\n",
        "    inicio = time.perf_counter()\n",
        "    resultado = func()\n",
        "    duracion = time.perf_counter() - inicio\n",
        "    return resultado, duracion\n",
        "\n",
        "def calcular_TVD(dict_p1, dict_p2):\n",
        "    \"\"\"Distancia Total de Variación (TVD) entre dos distribuciones.\"\"\"\n",
        "    soporte_total = set(dict_p1) | set(dict_p2)\n",
        "    return 0.5 * sum(abs(dict_p1.get(k, 0) - dict_p2.get(k, 0)) for k in soporte_total)\n",
        "\n",
        "def calcular_momentos(dict_fpm):\n",
        "    \"\"\"Calcula esperanza, varianza y desviación estándar de una distribución discreta.\"\"\"\n",
        "    esperanza = sum(x * p for x, p in dict_fpm.items())\n",
        "    varianza = sum((x - esperanza)**2 * p for x, p in dict_fpm.items())\n",
        "    return esperanza, varianza, varianza**0.5\n",
        "\n",
        "def comparar_distribuciones_df(p_estimada, p_real):\n",
        "    soporte = list(p_real.keys())\n",
        "    data = [{\n",
        "        \"Datos\": f\"P({x})\",\n",
        "        \"Real\": p_real.get(x, 0),\n",
        "        \"Estimación\": p_estimada.get(x, 0),\n",
        "        \"Diferencia\": abs(p_real.get(x, 0) - p_estimada.get(x, 0))\n",
        "    } for x in soporte]\n",
        "\n",
        "    esp_r, var_r, desv_r = calcular_momentos(p_real)\n",
        "    esp_e, var_e, desv_e = calcular_momentos(p_estimada)\n",
        "\n",
        "    resumen = [\n",
        "        {\"Datos\": \"Esperanza\", \"Real\": esp_r, \"Estimación\": esp_e, \"Diferencia\": abs(esp_r - esp_e)},\n",
        "        {\"Datos\": \"Varianza\", \"Real\": var_r, \"Estimación\": var_e, \"Diferencia\": abs(var_r - var_e)},\n",
        "        {\"Datos\": \"Desv. Est.\", \"Real\": desv_r, \"Estimación\": desv_e, \"Diferencia\": abs(desv_r - desv_e)},\n",
        "    ]\n",
        "    return pd.concat([pd.DataFrame(data), pd.DataFrame(resumen)], ignore_index=True)\n",
        "\n",
        "def calificar_generador_de_muestras(generador, dict_p_real, n=100_000):\n",
        "  soporte = list(dict_p_real.keys())\n",
        "\n",
        "  muestras, tiempos = zip(*(medir_tiempo(generador) for _ in range(n)))\n",
        "  frec = Counter(muestras)\n",
        "  dict_p_estimada = {x: frec.get(x, 0) / n for x in soporte}\n",
        "\n",
        "  df_comparacion = comparar_distribuciones_df(dict_p_estimada, dict_p_real)\n",
        "  tvd = calcular_TVD(dict_p_estimada, dict_p_real)\n",
        "  t_prom = np.mean(tiempos)\n",
        "\n",
        "  print(df_comparacion.to_string(index=False))\n",
        "  print()\n",
        "  print(f\"Distancia total de variación: {tvd:.6f}\")\n",
        "  print(f\"Tiempo promedio de ejecución: {t_prom} segundos\")\n"
      ],
      "metadata": {
        "id": "5BFAexMVS7GG"
      },
      "execution_count": 69,
      "outputs": []
    },
    {
      "cell_type": "code",
      "source": [
        "DICT_FPM = {i: p for i, p in enumerate([0.15, 0.20, 0.10, 0.35, 0.20])}\n",
        "SOPORTE = list(DICT_FPM.keys())\n",
        "print('funcion de probabilidad de masa: ',DICT_FPM)\n",
        "print('debe dar 1: ',sum(DICT_FPM.values()))"
      ],
      "metadata": {
        "colab": {
          "base_uri": "https://localhost:8080/"
        },
        "id": "weebfkW_NbFc",
        "outputId": "0211d431-9391-4f6c-fc83-bea12132d176"
      },
      "execution_count": 70,
      "outputs": [
        {
          "output_type": "stream",
          "name": "stdout",
          "text": [
            "funcion de probabilidad de masa:  {0: 0.15, 1: 0.2, 2: 0.1, 3: 0.35, 4: 0.2}\n",
            "debe dar 1:  1.0\n"
          ]
        }
      ]
    },
    {
      "cell_type": "code",
      "source": [
        "# I) Describir mediante un pseudocódigo un algoritmo que simule X utilizando el\n",
        "# método de la transformada inversa y que minimice el número esperado de búsquedas.\n",
        "\n",
        "def ordenar_dict_fpm(dict_fpm):\n",
        "  return dict(sorted(dict_fpm.items(), key=lambda x: x[1], reverse=True))\n",
        "\n",
        "def calcular_dict_fda(dict_fpm):\n",
        "  \"\"\"\n",
        "  Recibe una funcion de probabilidad de masa en forma de diccionario de pares\n",
        "  (valor, probabilidad) y devuelve su funcion de distribucion acumulada.\n",
        "  Solo definidas para el soporte.\n",
        "  \"\"\"\n",
        "  F = {}\n",
        "  suma = 0\n",
        "  for valor, probabilidad in dict_fpm.items():\n",
        "    suma += probabilidad\n",
        "    F[valor] = suma\n",
        "  return F\n",
        "\n",
        "def TI(dict_fda):\n",
        "  u = random.random()\n",
        "  for v, p in dict_fda.items():\n",
        "    if u < p:\n",
        "      return v\n",
        "\n",
        "print('Sin ordenar:')\n",
        "dict_fda = calcular_dict_fda(DICT_FPM)\n",
        "generador_de_muestras = lambda: TI(dict_fda)\n",
        "calificar_generador_de_muestras(generador_de_muestras, DICT_FPM)\n",
        "print()\n",
        "print('Ordenando:')\n",
        "dict_fda = calcular_dict_fda(ordenar_dict_fpm(DICT_FPM))\n",
        "generador_de_muestras = lambda: TI(dict_fda)\n",
        "calificar_generador_de_muestras(generador_de_muestras, DICT_FPM)"
      ],
      "metadata": {
        "colab": {
          "base_uri": "https://localhost:8080/"
        },
        "id": "oEuV013GObXr",
        "outputId": "d47038f3-8d11-4c40-d807-1f2e9d45a880"
      },
      "execution_count": 71,
      "outputs": [
        {
          "output_type": "stream",
          "name": "stdout",
          "text": [
            "Sin ordenar:\n",
            "     Datos     Real  Estimación  Diferencia\n",
            "      P(0) 0.150000     0.14790    0.002100\n",
            "      P(1) 0.200000     0.19866    0.001340\n",
            "      P(2) 0.100000     0.09995    0.000050\n",
            "      P(3) 0.350000     0.35181    0.001810\n",
            "      P(4) 0.200000     0.20168    0.001680\n",
            " Esperanza 2.250000     2.26071    0.010710\n",
            "  Varianza 1.887500     1.88082    0.006680\n",
            "Desv. Est. 1.373863     1.37143    0.002433\n",
            "\n",
            "Distancia total de variación: 0.003490\n",
            "Tiempo promedio de ejecución: 1.41451272021186e-06 segundos\n",
            "\n",
            "Ordenando:\n",
            "     Datos     Real  Estimación  Diferencia\n",
            "      P(0) 0.150000    0.149660    0.000340\n",
            "      P(1) 0.200000    0.199880    0.000120\n",
            "      P(2) 0.100000    0.098100    0.001900\n",
            "      P(3) 0.350000    0.353080    0.003080\n",
            "      P(4) 0.200000    0.199280    0.000720\n",
            " Esperanza 2.250000    2.252440    0.002440\n",
            "  Varianza 1.887500    1.884994    0.002506\n",
            "Desv. Est. 1.373863    1.372951    0.000912\n",
            "\n",
            "Distancia total de variación: 0.003080\n",
            "Tiempo promedio de ejecución: 1.315867899775185e-06 segundos\n"
          ]
        }
      ]
    },
    {
      "cell_type": "code",
      "source": [
        "# II) Describir mediante un pseudocódigo un algoritmo que simule X utilizando el método de aceptación y\n",
        "# rechazo con una variable soporte Y con distribución binomial B(4,0.45).\n",
        "N_BIN = 4\n",
        "P_BIN = 0.45\n",
        "\n",
        "def crear_dict_fpm(soporte, p):\n",
        "  return {v: p(v) for v in soporte}\n",
        "\n",
        "def fpm_binomial(k, n=N_BIN, p=P_BIN):\n",
        "    if not 0 <= k <= n:\n",
        "        return 0.0\n",
        "    coef = math.comb(n, k)\n",
        "    prob = coef * (p ** k) * ((1 - p) ** (n - k))\n",
        "    return prob\n",
        "\n",
        "dict_fpm_binomial = crear_dict_fpm(list(range(N_BIN + 1)), fpm_binomial)\n",
        "generador_de_muestras_binomial = lambda: TI(calcular_dict_fda(dict_fpm_binomial))\n",
        "\n",
        "print(DICT_FPM)\n",
        "print(dict_fpm_binomial)"
      ],
      "metadata": {
        "colab": {
          "base_uri": "https://localhost:8080/"
        },
        "id": "GCNw52E75vBh",
        "outputId": "6633719a-72f8-4707-e8b5-30b3f631486c"
      },
      "execution_count": 72,
      "outputs": [
        {
          "output_type": "stream",
          "name": "stdout",
          "text": [
            "{0: 0.15, 1: 0.2, 2: 0.1, 3: 0.35, 4: 0.2}\n",
            "{0: 0.09150625000000003, 1: 0.2994750000000001, 2: 0.3675375000000001, 3: 0.20047500000000004, 4: 0.04100625}\n"
          ]
        }
      ]
    },
    {
      "cell_type": "code",
      "source": [
        "C_posibles = [DICT_FPM[i] / dict_fpm_binomial[i] for i in range(0,len(DICT_FPM))]\n",
        "C = max(C_posibles)\n",
        "\n",
        "print(f'C = max({C_posibles}) =',C)"
      ],
      "metadata": {
        "colab": {
          "base_uri": "https://localhost:8080/"
        },
        "id": "YpE4XtefEON5",
        "outputId": "6c7c0be7-ec2e-41c9-d5f0-df6fc0bf3d32"
      },
      "execution_count": 74,
      "outputs": [
        {
          "output_type": "stream",
          "name": "stdout",
          "text": [
            "C = max([1.6392322928761691, 0.6678353785791801, 0.2720810801618882, 1.745853597705449, 4.877305288827923]) = 4.877305288827923\n"
          ]
        }
      ]
    },
    {
      "cell_type": "code",
      "source": [
        "def generador_de_muestras_AyR_bin():\n",
        "  while True:\n",
        "    y = generador_de_muestras_binomial()\n",
        "    qy = dict_fpm_binomial[y]\n",
        "    py = DICT_FPM[y]\n",
        "    if random.random() < py/(qy*C):\n",
        "      return y\n",
        "\n",
        "calificar_generador_de_muestras(generador_de_muestras_AyR_bin, DICT_FPM)"
      ],
      "metadata": {
        "colab": {
          "base_uri": "https://localhost:8080/"
        },
        "id": "t23hnNsz-kh5",
        "outputId": "4cfc46a5-2051-4435-dd56-9f657b0b1018"
      },
      "execution_count": 76,
      "outputs": [
        {
          "output_type": "stream",
          "name": "stdout",
          "text": [
            "     Datos     Real  Estimación  Diferencia\n",
            "      P(0) 0.150000    0.149780    0.000220\n",
            "      P(1) 0.200000    0.198850    0.001150\n",
            "      P(2) 0.100000    0.101030    0.001030\n",
            "      P(3) 0.350000    0.349970    0.000030\n",
            "      P(4) 0.200000    0.200370    0.000370\n",
            " Esperanza 2.250000    2.252300    0.002300\n",
            "  Varianza 1.887500    1.885765    0.001735\n",
            "Desv. Est. 1.373863    1.373231    0.000632\n",
            "\n",
            "Distancia total de variación: 0.001400\n",
            "Tiempo promedio de ejecución: 6.71051957038344e-06 segundos\n"
          ]
        }
      ]
    }
  ]
}