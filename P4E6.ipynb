{
  "nbformat": 4,
  "nbformat_minor": 0,
  "metadata": {
    "colab": {
      "provenance": [],
      "authorship_tag": "ABX9TyPMRsw/hvQ32Y8v3TReud3L",
      "include_colab_link": true
    },
    "kernelspec": {
      "name": "python3",
      "display_name": "Python 3"
    },
    "language_info": {
      "name": "python"
    }
  },
  "cells": [
    {
      "cell_type": "markdown",
      "metadata": {
        "id": "view-in-github",
        "colab_type": "text"
      },
      "source": [
        "<a href=\"https://colab.research.google.com/github/vmatiasw/modelos_y_simulacion/blob/main/P4E6.ipynb\" target=\"_parent\"><img src=\"https://colab.research.google.com/assets/colab-badge.svg\" alt=\"Open In Colab\"/></a>"
      ]
    },
    {
      "cell_type": "code",
      "source": [
        "import pandas as pd\n",
        "from collections import Counter\n",
        "import random\n",
        "import time\n",
        "import numpy as np\n",
        "import math"
      ],
      "metadata": {
        "id": "xcjObWTBWLpv"
      },
      "execution_count": 328,
      "outputs": []
    },
    {
      "cell_type": "code",
      "source": [
        "def medir_tiempo(func):\n",
        "    inicio = time.perf_counter()\n",
        "    resultado = func()\n",
        "    fin = time.perf_counter()\n",
        "    return resultado, fin - inicio\n",
        "\n",
        "def obtener_DataFrame(dict_fpm, P):\n",
        "  data = {\n",
        "      \"X\": list(dict_fpm.keys()),\n",
        "      \"P(X) Real\": [P[x] for x in dict_fpm.keys()],\n",
        "      \"Estimación\": list(dict_fpm.values()),\n",
        "      \"Diferencia\": [abs(P[x] - dict_fpm[x]) for x in dict_fpm.keys()]\n",
        "  }\n",
        "  return pd.DataFrame(data)\n",
        "\n",
        "def estimar_dict_fpm(p, soporte, n):\n",
        "  \"\"\"\n",
        "  Estima la función de probabilidad de masa de una variable aleatoria discreta utilizando un generador de muestras.\n",
        "  \"\"\"\n",
        "  muestras = [p() for _ in range(n)]\n",
        "  frecuencias = Counter(muestras)\n",
        "\n",
        "  dict_fpm = {x: frecuencias.get(x, 0) / n for x in soporte}\n",
        "\n",
        "  return dict_fpm\n",
        "\n",
        "def calcular_TVD(dict_fpm_estimada, dict_fpm_real):\n",
        "  \"\"\"\n",
        "  Calcula la Distancia Total de Variación (TVD) entre dos distribuciones discretas.\n",
        "  \"\"\"\n",
        "  return 0.5 * sum(abs(dict_fpm_real[x] - dict_fpm_estimada.get(x, 0)) for x in dict_fpm_real)\n",
        "\n",
        "def calificar_generador(generador_de_muestras, dict_fpm_correcta):\n",
        "  n = 100_000\n",
        "  soporte = dict_fpm_correcta.keys()\n",
        "  dict_fpm_estimada, tiempo = medir_tiempo(lambda: estimar_dict_fpm(generador_de_muestras, soporte, n))\n",
        "  print(obtener_DataFrame(dict_fpm_estimada, dict_fpm_correcta))\n",
        "  tvd = calcular_TVD(dict_fpm_estimada, dict_fpm_correcta)\n",
        "  print()\n",
        "  print(f\"Distancia total de variación (TVD): {tvd:.6f}\")\n",
        "  print(f\"Tiempo de ejecución: {tiempo/n:.6f} segundos\")\n"
      ],
      "metadata": {
        "id": "5BFAexMVS7GG"
      },
      "execution_count": 329,
      "outputs": []
    },
    {
      "cell_type": "code",
      "source": [
        "DICT_FPM = {i+1: p for i, p in enumerate([0.15, 0.20, 0.10, 0.35, 0.20])}\n",
        "SOPORTE = DICT_FPM.keys()\n",
        "print('funcion de probabilidad de masa: ',DICT_FPM)\n",
        "print('debe dar 1: ',sum(DICT_FPM.values()))"
      ],
      "metadata": {
        "colab": {
          "base_uri": "https://localhost:8080/"
        },
        "id": "weebfkW_NbFc",
        "outputId": "b5c9a357-76bc-4276-f632-b834fc53c9ed"
      },
      "execution_count": 330,
      "outputs": [
        {
          "output_type": "stream",
          "name": "stdout",
          "text": [
            "funcion de probabilidad de masa:  {1: 0.15, 2: 0.2, 3: 0.1, 4: 0.35, 5: 0.2}\n",
            "debe dar 1:  1.0\n"
          ]
        }
      ]
    },
    {
      "cell_type": "code",
      "source": [
        "# Transformada inversa.\n",
        "def ordenar_dict_fpm(dict_fpm):\n",
        "  return dict(sorted(dict_fpm.items(), key=lambda x: x[1], reverse=True))\n",
        "\n",
        "def calcular_dict_fda(dict_fpm):\n",
        "  \"\"\"\n",
        "  Recibe una funcion de probabilidad de masa en forma de diccionario de pares\n",
        "  (valor, probabilidad) y devuelve su funcion de distribucion acumulada.\n",
        "  Solo definidas para el soporte.\n",
        "  \"\"\"\n",
        "  F = {}\n",
        "  suma = 0\n",
        "  for valor, probabilidad in dict_fpm.items():\n",
        "    suma += probabilidad\n",
        "    F[valor] = suma\n",
        "  return F\n",
        "\n",
        "def TI(dict_fda):\n",
        "  u = random.random()\n",
        "  for v, p in F.items():\n",
        "    if u < p:\n",
        "      return v\n",
        "\n",
        "dict_fda = calcular_dict_fda(ordenar_dict_fpm(DICT_FPM))\n",
        "generador_de_muestras = lambda: TI(dict_fda)\n",
        "calificar_generador(generador_de_muestras, DICT_FPM)"
      ],
      "metadata": {
        "colab": {
          "base_uri": "https://localhost:8080/"
        },
        "id": "oEuV013GObXr",
        "outputId": "c7015d77-b41f-4186-b133-5ddd4d2e8483"
      },
      "execution_count": 331,
      "outputs": [
        {
          "output_type": "stream",
          "name": "stdout",
          "text": [
            "   X  P(X) Real  Estimación  Diferencia\n",
            "0  1       0.15     0.11064     0.03936\n",
            "1  2       0.20     0.13963     0.06037\n",
            "2  3       0.10     0.18938     0.08938\n",
            "3  4       0.35     0.05002     0.29998\n",
            "4  5       0.20     0.12019     0.07981\n",
            "\n",
            "Distancia total de variación (TVD): 0.284450\n",
            "Tiempo de ejecución: 0.000001 segundos\n"
          ]
        }
      ]
    }
  ]
}