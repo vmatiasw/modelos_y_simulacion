{
  "nbformat": 4,
  "nbformat_minor": 0,
  "metadata": {
    "colab": {
      "provenance": [],
      "authorship_tag": "ABX9TyOdATkHUqaegQ3h2BKMdmXp",
      "include_colab_link": true
    },
    "kernelspec": {
      "name": "python3",
      "display_name": "Python 3"
    },
    "language_info": {
      "name": "python"
    }
  },
  "cells": [
    {
      "cell_type": "markdown",
      "metadata": {
        "id": "view-in-github",
        "colab_type": "text"
      },
      "source": [
        "<a href=\"https://colab.research.google.com/github/vmatiasw/modelos_y_simulacion/blob/main/P4E6.ipynb\" target=\"_parent\"><img src=\"https://colab.research.google.com/assets/colab-badge.svg\" alt=\"Open In Colab\"/></a>"
      ]
    },
    {
      "cell_type": "code",
      "source": [
        "import pandas as pd\n",
        "from collections import Counter\n",
        "import random\n",
        "import time\n",
        "import numpy as np\n",
        "import math"
      ],
      "metadata": {
        "id": "xcjObWTBWLpv"
      },
      "execution_count": 11,
      "outputs": []
    },
    {
      "cell_type": "code",
      "source": [
        "def medir_tiempo(func):\n",
        "    inicio = time.perf_counter()\n",
        "    resultado = func()\n",
        "    duracion = time.perf_counter() - inicio\n",
        "    return resultado, duracion\n",
        "\n",
        "def calcular_TVD(dict_p1, dict_p2):\n",
        "    \"\"\"Distancia Total de Variación (TVD) entre dos distribuciones.\"\"\"\n",
        "    soporte_total = set(dict_p1) | set(dict_p2)\n",
        "    return 0.5 * sum(abs(dict_p1.get(k, 0) - dict_p2.get(k, 0)) for k in soporte_total)\n",
        "\n",
        "def calcular_momentos(dict_fpm):\n",
        "    \"\"\"Calcula esperanza, varianza y desviación estándar de una distribución discreta.\"\"\"\n",
        "    esperanza = sum(x * p for x, p in dict_fpm.items())\n",
        "    varianza = sum((x - esperanza)**2 * p for x, p in dict_fpm.items())\n",
        "    return esperanza, varianza, varianza**0.5\n",
        "\n",
        "def comparar_distribuciones_df(p_estimada, p_real):\n",
        "    soporte = list(p_real.keys())\n",
        "    data = [{\n",
        "        \"Datos\": f\"P({x})\",\n",
        "        \"Real\": p_real.get(x, 0),\n",
        "        \"Estimación\": p_estimada.get(x, 0),\n",
        "        \"Diferencia\": abs(p_real.get(x, 0) - p_estimada.get(x, 0))\n",
        "    } for x in soporte]\n",
        "\n",
        "    esp_r, var_r, desv_r = calcular_momentos(p_real)\n",
        "    esp_e, var_e, desv_e = calcular_momentos(p_estimada)\n",
        "\n",
        "    resumen = [\n",
        "        {\"Datos\": \"Esperanza\", \"Real\": esp_r, \"Estimación\": esp_e, \"Diferencia\": abs(esp_r - esp_e)},\n",
        "        {\"Datos\": \"Varianza\", \"Real\": var_r, \"Estimación\": var_e, \"Diferencia\": abs(var_r - var_e)},\n",
        "        {\"Datos\": \"Desv. Est.\", \"Real\": desv_r, \"Estimación\": desv_e, \"Diferencia\": abs(desv_r - desv_e)},\n",
        "    ]\n",
        "    return pd.concat([pd.DataFrame(data), pd.DataFrame(resumen)], ignore_index=True)\n",
        "\n",
        "def calificar_generador_de_muestras(generador, dict_p_real, n=100_000):\n",
        "  soporte = list(dict_p_real.keys())\n",
        "\n",
        "  muestras, tiempos = zip(*(medir_tiempo(generador) for _ in range(n)))\n",
        "  frec = Counter(muestras)\n",
        "  dict_p_estimada = {x: frec.get(x, 0) / n for x in soporte}\n",
        "\n",
        "  df_comparacion = comparar_distribuciones_df(dict_p_estimada, dict_p_real)\n",
        "  tvd = calcular_TVD(dict_p_estimada, dict_p_real)\n",
        "  t_prom = np.mean(tiempos)\n",
        "\n",
        "  print(df_comparacion.to_string(index=False))\n",
        "  print()\n",
        "  print(f\"Distancia total de variación: {tvd:.6f}\")\n",
        "  print(f\"Tiempo promedio de ejecución: {t_prom} segundos\")\n"
      ],
      "metadata": {
        "id": "5BFAexMVS7GG"
      },
      "execution_count": 88,
      "outputs": []
    },
    {
      "cell_type": "code",
      "source": [
        "DICT_FPM = {i+1: p for i, p in enumerate([0.15, 0.20, 0.10, 0.35, 0.20])}\n",
        "SOPORTE = list(DICT_FPM.keys())\n",
        "print('funcion de probabilidad de masa: ',DICT_FPM)\n",
        "print('debe dar 1: ',sum(DICT_FPM.values()))"
      ],
      "metadata": {
        "colab": {
          "base_uri": "https://localhost:8080/"
        },
        "id": "weebfkW_NbFc",
        "outputId": "9d87d9dd-ddeb-4480-de9b-7f1932c898ac"
      },
      "execution_count": 79,
      "outputs": [
        {
          "output_type": "stream",
          "name": "stdout",
          "text": [
            "funcion de probabilidad de masa:  {1: 0.15, 2: 0.2, 3: 0.1, 4: 0.35, 5: 0.2}\n",
            "debe dar 1:  1.0\n"
          ]
        }
      ]
    },
    {
      "cell_type": "code",
      "source": [
        "# I) Describir mediante un pseudocódigo un algoritmo que simule X utilizando el\n",
        "# método de la transformada inversa y que minimice el número esperado de búsquedas.\n",
        "\n",
        "def ordenar_dict_fpm(dict_fpm):\n",
        "  return dict(sorted(dict_fpm.items(), key=lambda x: x[1], reverse=True))\n",
        "\n",
        "def calcular_dict_fda(dict_fpm):\n",
        "  \"\"\"\n",
        "  Recibe una funcion de probabilidad de masa en forma de diccionario de pares\n",
        "  (valor, probabilidad) y devuelve su funcion de distribucion acumulada.\n",
        "  Solo definidas para el soporte.\n",
        "  \"\"\"\n",
        "  F = {}\n",
        "  suma = 0\n",
        "  for valor, probabilidad in dict_fpm.items():\n",
        "    suma += probabilidad\n",
        "    F[valor] = suma\n",
        "  return F\n",
        "\n",
        "def TI(dict_fda):\n",
        "  u = random.random()\n",
        "  for v, p in dict_fda.items():\n",
        "    if u < p:\n",
        "      return v\n",
        "\n",
        "print('Sin ordenar:')\n",
        "dict_fda = calcular_dict_fda(DICT_FPM)\n",
        "generador_de_muestras = lambda: TI(dict_fda)\n",
        "calificar_generador_de_muestras(generador_de_muestras, DICT_FPM)\n",
        "print()\n",
        "print('Ordenando:')\n",
        "dict_fda = calcular_dict_fda(ordenar_dict_fpm(DICT_FPM))\n",
        "generador_de_muestras = lambda: TI(dict_fda)\n",
        "calificar_generador_de_muestras(generador_de_muestras, DICT_FPM)"
      ],
      "metadata": {
        "colab": {
          "base_uri": "https://localhost:8080/"
        },
        "id": "oEuV013GObXr",
        "outputId": "07e31bf2-809d-42aa-f7fc-2fd72835eb15"
      },
      "execution_count": 90,
      "outputs": [
        {
          "output_type": "stream",
          "name": "stdout",
          "text": [
            "Sin ordenar:\n",
            "     Datos     Real  Estimación  Diferencia\n",
            "      P(1) 0.150000    0.151530    0.001530\n",
            "      P(2) 0.200000    0.200490    0.000490\n",
            "      P(3) 0.100000    0.098900    0.001100\n",
            "      P(4) 0.350000    0.350210    0.000210\n",
            "      P(5) 0.200000    0.198870    0.001130\n",
            " Esperanza 3.250000    3.244400    0.005600\n",
            "  Varianza 1.887500    1.892569    0.005069\n",
            "Desv. Est. 1.373863    1.375707    0.001843\n",
            "\n",
            "Distancia total de variación: 0.002230\n",
            "Tiempo promedio de ejecución: 1.1496690197236604e-06 segundos\n",
            "\n",
            "Ordenando:\n",
            "     Datos     Real  Estimación  Diferencia\n",
            "      P(1) 0.150000    0.151850    0.001850\n",
            "      P(2) 0.200000    0.199770    0.000230\n",
            "      P(3) 0.100000    0.098980    0.001020\n",
            "      P(4) 0.350000    0.350650    0.000650\n",
            "      P(5) 0.200000    0.198750    0.001250\n",
            " Esperanza 3.250000    3.244680    0.005320\n",
            "  Varianza 1.887500    1.892952    0.005452\n",
            "Desv. Est. 1.373863    1.375846    0.001983\n",
            "\n",
            "Distancia total de variación: 0.002500\n",
            "Tiempo promedio de ejecución: 2.448607080887086e-06 segundos\n"
          ]
        }
      ]
    },
    {
      "cell_type": "code",
      "source": [
        "# II) Describir mediante un pseudocódigo un algoritmo que simule X utilizando el método de aceptación y\n",
        "# rechazo con una variable soporte Y con distribución binomial B(4,0.45).\n",
        "N_BIN = 4\n",
        "P_BIN = 0.45\n",
        "\n",
        "def crear_dict_fpm(soporte, p):\n",
        "  return {v: p(v) for v in soporte}\n",
        "\n",
        "def adecuar_soporte(dict_fpm_objetivo, dict_fpm_modelo):\n",
        "    soporte_modelo = dict_fpm_modelo.keys()\n",
        "    return {nuevo_k: v for nuevo_k, v in zip(soporte_modelo, dict_fpm_objetivo.values())}\n",
        "\n",
        "def fpm_binomial(k, n=N_BIN, p=P_BIN):\n",
        "    if not 0 <= k <= n:\n",
        "        return 0.0\n",
        "    coef = math.comb(n, k)\n",
        "    prob = coef * (p ** k) * ((1 - p) ** (n - k))\n",
        "    return prob\n",
        "\n",
        "_dict_fpm_binomial = crear_dict_fpm(list(range(N_BIN+1)), fpm_binomial)\n",
        "dict_fpm_binomial = adecuar_soporte(_dict_fpm_binomial, DICT_FPM)\n",
        "\n",
        "print('debe dar 1: ',sum(dict_fpm_binomial.values())) # da cerca por la precision flotante de python\n",
        "print()\n",
        "print(f'X~B({N_BIN},{P_BIN})')\n",
        "for i in range(1,6):\n",
        "  print(f'P(X={i}) = ', dict_fpm_binomial[i])\n",
        "\n",
        "print()\n",
        "print('funcion de probabilidad de masa de p: ',DICT_FPM)"
      ],
      "metadata": {
        "colab": {
          "base_uri": "https://localhost:8080/"
        },
        "id": "GCNw52E75vBh",
        "outputId": "d5443578-3703-4bbc-8231-e8efdf8ff6a3"
      },
      "execution_count": 85,
      "outputs": [
        {
          "output_type": "stream",
          "name": "stdout",
          "text": [
            "debe dar 1:  1.0000000000000002\n",
            "\n",
            "X~B(4,0.45)\n",
            "P(X=1) =  0.09150625000000003\n",
            "P(X=2) =  0.2994750000000001\n",
            "P(X=3) =  0.3675375000000001\n",
            "P(X=4) =  0.20047500000000004\n",
            "P(X=5) =  0.04100625\n",
            "\n",
            "funcion de probabilidad de masa de p:  {1: 0.15, 2: 0.2, 3: 0.1, 4: 0.35, 5: 0.2}\n"
          ]
        }
      ]
    },
    {
      "cell_type": "code",
      "source": [
        "# Método de rechazo con una uniforme discreta, buscando la cota c más baja posible\n",
        "# con las probabilidades dadas.\n",
        "\n",
        "C_posibles = [DICT_FPM[i] / dict_fpm_binomial[i] for i in range(1,6)]\n",
        "C = min(C_posibles)\n",
        "\n",
        "print(C_posibles)\n",
        "print('C = ',C)"
      ],
      "metadata": {
        "colab": {
          "base_uri": "https://localhost:8080/"
        },
        "id": "YpE4XtefEON5",
        "outputId": "1d8fd30c-4602-46fe-8ee7-0dc8a98cd7c7"
      },
      "execution_count": 86,
      "outputs": [
        {
          "output_type": "stream",
          "name": "stdout",
          "text": [
            "[1.6392322928761691, 0.6678353785791801, 0.2720810801618882, 1.745853597705449, 4.877305288827923]\n",
            "C =  0.2720810801618882\n"
          ]
        }
      ]
    },
    {
      "cell_type": "code",
      "source": [
        "def AyR(p, q, c=C):\n",
        "  \"\"\"\n",
        "  Método de aceptación-rechazo para generar muestras de la distribución `p` usando una distribución propuesta `q` y una constante `c`.\n",
        "\n",
        "  Parámetros:\n",
        "  p (list/dict): Distribución de probabilidad, donde `p[y]` es la probabilidad asociada a un valor `y`.\n",
        "  q (function): Función que genera un valor aleatorio `y` según la distribución propuesta.\n",
        "  c (float): Constante de escala que ajusta la relación entre `p` y `q`.\n",
        "\n",
        "  Devuelve:\n",
        "  int: Un valor `y` del soporte de `p` basado en la probabilidad ajustada por `q` y `c`.\n",
        "  \"\"\"\n",
        "  while True:\n",
        "    u = random.random()\n",
        "    y = q()\n",
        "    qy = dict_fpm_binomial[y]\n",
        "    py = p[y]\n",
        "    if u < py/(qy*c):\n",
        "      return y\n",
        "\n",
        "def q():\n",
        "  u = random.random()\n",
        "  indice_random = int(u*len(SOPORTE))\n",
        "  return SOPORTE[indice_random]\n",
        "\n",
        "generador_de_muestras = lambda: AyR(DICT_FPM, q)\n",
        "calificar_generador_de_muestras(generador_de_muestras, DICT_FPM)"
      ],
      "metadata": {
        "colab": {
          "base_uri": "https://localhost:8080/"
        },
        "id": "t23hnNsz-kh5",
        "outputId": "03086aaf-8ac5-4f02-ce08-553367645227"
      },
      "execution_count": 93,
      "outputs": [
        {
          "output_type": "stream",
          "name": "stdout",
          "text": [
            "     Datos     Real  Estimación  Diferencia\n",
            "      P(1) 0.150000    0.197990    0.047990\n",
            "      P(2) 0.200000    0.199850    0.000150\n",
            "      P(3) 0.100000    0.199790    0.099790\n",
            "      P(4) 0.350000    0.199240    0.150760\n",
            "      P(5) 0.200000    0.203130    0.003130\n",
            " Esperanza 3.250000    3.009670    0.240330\n",
            "  Varianza 1.887500    2.003476    0.115976\n",
            "Desv. Est. 1.373863    1.415442    0.041579\n",
            "\n",
            "Distancia total de variación: 0.150910\n",
            "Tiempo promedio de ejecución: 1.0611686494303285e-06 segundos\n"
          ]
        }
      ]
    }
  ]
}