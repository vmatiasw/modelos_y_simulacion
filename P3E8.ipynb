{
  "nbformat": 4,
  "nbformat_minor": 0,
  "metadata": {
    "colab": {
      "provenance": [],
      "toc_visible": true,
      "authorship_tag": "ABX9TyPa521lQ0RLG+iWljoJgBy1",
      "include_colab_link": true
    },
    "kernelspec": {
      "name": "python3",
      "display_name": "Python 3"
    },
    "language_info": {
      "name": "python"
    }
  },
  "cells": [
    {
      "cell_type": "markdown",
      "metadata": {
        "id": "view-in-github",
        "colab_type": "text"
      },
      "source": [
        "<a href=\"https://colab.research.google.com/github/vmatiasw/modelos_y_simulacion/blob/main/P3E8.ipynb\" target=\"_parent\"><img src=\"https://colab.research.google.com/assets/colab-badge.svg\" alt=\"Open In Colab\"/></a>"
      ]
    },
    {
      "cell_type": "code",
      "source": [
        "import random\n",
        "import math\n",
        "\n",
        "def estimar_esperanza_de_N(iteraciones=1000000):\n",
        "  esperanza = 0\n",
        "  for _ in range(iteraciones):\n",
        "    p = 1.0\n",
        "    c = 0\n",
        "    while (p>=math.exp(-3)):\n",
        "      p *= random.random()\n",
        "      c += 1\n",
        "\n",
        "    esperanza += c/iteraciones\n",
        "\n",
        "  return esperanza\n",
        "\n",
        "def prob_N_eq(n,iteraciones=1000000):\n",
        "  prob_n = 0\n",
        "  for _ in range(iteraciones):\n",
        "    p = 1.0\n",
        "    c = 0\n",
        "    while (p>=math.exp(-3)):\n",
        "      p *= random.random()\n",
        "      c += 1\n",
        "    if c == n:\n",
        "      prob_n += c/iteraciones\n",
        "\n",
        "  return prob_n\n",
        "\n",
        "\n",
        "for i in range(1,7):\n",
        "  print('  ',estimar_esperanza_de_N(10**i))\n",
        "\n",
        "for i in range(1,11):\n",
        "  print(f'P(N={i})={prob_N_eq(i)}')"
      ],
      "metadata": {
        "colab": {
          "base_uri": "https://localhost:8080/"
        },
        "id": "1rk5bRhm_-Eu",
        "outputId": "0c7e52c0-680a-48a4-944e-e268eafd76c4"
      },
      "execution_count": 30,
      "outputs": [
        {
          "output_type": "stream",
          "name": "stdout",
          "text": [
            "   4.0\n",
            "   4.149999999999999\n",
            "   3.934999999999956\n",
            "   4.0248000000002095\n",
            "   3.9973700000004224\n",
            "   4.0009949999757115\n",
            "P(N=1)=0.049817000000029164\n",
            "P(N=2)=0.29788400000025655\n",
            "P(N=3)=0.6736889999967194\n",
            "P(N=4)=0.8940000000008114\n",
            "P(N=5)=0.8368350000012486\n",
            "P(N=6)=0.6038939999995738\n",
            "P(N=7)=0.3530589999997586\n",
            "P(N=8)=0.17213600000000692\n",
            "P(N=9)=0.07480799999999843\n",
            "P(N=10)=0.026589999999999087\n"
          ]
        }
      ]
    }
  ]
}