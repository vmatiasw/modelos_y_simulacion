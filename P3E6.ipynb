{
  "nbformat": 4,
  "nbformat_minor": 0,
  "metadata": {
    "colab": {
      "provenance": [],
      "toc_visible": true,
      "authorship_tag": "ABX9TyOK8RdQLcaKt21XlKXgLqId",
      "include_colab_link": true
    },
    "kernelspec": {
      "name": "python3",
      "display_name": "Python 3"
    },
    "language_info": {
      "name": "python"
    }
  },
  "cells": [
    {
      "cell_type": "markdown",
      "metadata": {
        "id": "view-in-github",
        "colab_type": "text"
      },
      "source": [
        "<a href=\"https://colab.research.google.com/github/vmatiasw/modelos_y_simulacion/blob/main/P3E6.ipynb\" target=\"_parent\"><img src=\"https://colab.research.google.com/assets/colab-badge.svg\" alt=\"Open In Colab\"/></a>"
      ]
    },
    {
      "cell_type": "code",
      "source": [
        "import random\n",
        "import math\n",
        "\n",
        "def estimar_pi(n=10000):\n",
        "  acc = 0\n",
        "  for _ in range(n):\n",
        "    uy = random.random()\n",
        "    ux = random.random()\n",
        "    if (ux**2 + uy**2) < 1.0:\n",
        "      acc += 1\n",
        "\n",
        "  pi_estimado = 4.0 * acc / n\n",
        "\n",
        "  # Printeamos\n",
        "  print('Iteraciones:', n)\n",
        "  print('Pi estimado:', pi_estimado)\n",
        "  print('Pi         :', math.pi)\n",
        "  print('Diferencia :', abs(pi_estimado - math.pi))\n",
        "  print()\n",
        "\n",
        "  return pi_estimado\n",
        "\n",
        "for i in range(1,6):\n",
        "  estimar_pi(10**i)\n",
        "None"
      ],
      "metadata": {
        "colab": {
          "base_uri": "https://localhost:8080/"
        },
        "id": "1rk5bRhm_-Eu",
        "outputId": "cdde9d0b-85dc-49e4-95d5-7b5cac928157"
      },
      "execution_count": 1,
      "outputs": [
        {
          "output_type": "stream",
          "name": "stdout",
          "text": [
            "Iteraciones: 10\n",
            "Pi estimado: 1.6\n",
            "Pi         : 3.141592653589793\n",
            "Diferencia : 1.541592653589793\n",
            "\n",
            "Iteraciones: 100\n",
            "Pi estimado: 3.2\n",
            "Pi         : 3.141592653589793\n",
            "Diferencia : 0.05840734641020706\n",
            "\n",
            "Iteraciones: 1000\n",
            "Pi estimado: 3.1\n",
            "Pi         : 3.141592653589793\n",
            "Diferencia : 0.04159265358979303\n",
            "\n",
            "Iteraciones: 10000\n",
            "Pi estimado: 3.1632\n",
            "Pi         : 3.141592653589793\n",
            "Diferencia : 0.021607346410206674\n",
            "\n",
            "Iteraciones: 100000\n",
            "Pi estimado: 3.13668\n",
            "Pi         : 3.141592653589793\n",
            "Diferencia : 0.004912653589792981\n",
            "\n"
          ]
        }
      ]
    }
  ]
}