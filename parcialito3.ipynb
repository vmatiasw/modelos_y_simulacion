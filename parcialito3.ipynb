{
  "nbformat": 4,
  "nbformat_minor": 0,
  "metadata": {
    "colab": {
      "provenance": [],
      "authorship_tag": "ABX9TyPEndx7VE1YN49Y7zAaf8l+",
      "include_colab_link": true
    },
    "kernelspec": {
      "name": "python3",
      "display_name": "Python 3"
    },
    "language_info": {
      "name": "python"
    }
  },
  "cells": [
    {
      "cell_type": "markdown",
      "metadata": {
        "id": "view-in-github",
        "colab_type": "text"
      },
      "source": [
        "<a href=\"https://colab.research.google.com/github/vmatiasw/modelos_y_simulacion/blob/main/parcialito3.ipynb\" target=\"_parent\"><img src=\"https://colab.research.google.com/assets/colab-badge.svg\" alt=\"Open In Colab\"/></a>"
      ]
    },
    {
      "cell_type": "code",
      "source": [
        "from math import log, sqrt\n",
        "ln = log\n",
        "media = -1.019+((ln(0.365)/1.365)--1.019)/150\n",
        "media"
      ],
      "metadata": {
        "colab": {
          "base_uri": "https://localhost:8080/"
        },
        "id": "gnYno7CVEf-T",
        "outputId": "f5b7c1df-08ed-4741-c4c5-d94fcbb6a65b"
      },
      "execution_count": 7,
      "outputs": [
        {
          "output_type": "execute_result",
          "data": {
            "text/plain": [
              "-1.0171290496967014"
            ]
          },
          "metadata": {},
          "execution_count": 7
        }
      ]
    },
    {
      "cell_type": "code",
      "source": [
        "Scuad = 1.306 * (1 - 1/149) + 150 * (media--1.019)**2\n",
        "# Scuad = 1,306 × (1 − 1÷149) + 150 × (−1,019+((ln(0,365)÷1,365)−−1,019)÷150−−1,019)²\n",
        "Scuad"
      ],
      "metadata": {
        "colab": {
          "base_uri": "https://localhost:8080/"
        },
        "id": "MB4lVq9xE90L",
        "outputId": "c47a6a25-4500-4e06-f0c7-f20562e1fddf"
      },
      "execution_count": 8,
      "outputs": [
        {
          "output_type": "execute_result",
          "data": {
            "text/plain": [
              "1.297759967584471"
            ]
          },
          "metadata": {},
          "execution_count": 8
        }
      ]
    },
    {
      "cell_type": "code",
      "execution_count": 9,
      "metadata": {
        "colab": {
          "base_uri": "https://localhost:8080/"
        },
        "id": "6xhqooTdEFoe",
        "outputId": "09a0dee1-db4a-4867-b3cd-092fe765e270"
      },
      "outputs": [
        {
          "output_type": "execute_result",
          "data": {
            "text/plain": [
              "np.float64(1.959963984540054)"
            ]
          },
          "metadata": {},
          "execution_count": 9
        }
      ],
      "source": [
        "from scipy import stats\n",
        "\n",
        "confianza = 0.95\n",
        "alpha = 1 - confianza\n",
        "z_alpha_2 = abs(stats.norm.ppf(alpha/2))\n",
        "z_alpha_2"
      ]
    },
    {
      "cell_type": "code",
      "source": [
        "L = z_alpha_2 * sqrt(Scuad/150) * 2\n",
        "L"
      ],
      "metadata": {
        "colab": {
          "base_uri": "https://localhost:8080/"
        },
        "id": "tv6fE3vXE8Yr",
        "outputId": "4c40cdff-67fd-40cd-9320-fccad5fe2bad"
      },
      "execution_count": 10,
      "outputs": [
        {
          "output_type": "execute_result",
          "data": {
            "text/plain": [
              "np.float64(0.36461089669659585)"
            ]
          },
          "metadata": {},
          "execution_count": 10
        }
      ]
    }
  ]
}